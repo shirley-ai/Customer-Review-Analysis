{
 "cells": [
  {
   "cell_type": "markdown",
   "metadata": {},
   "source": [
    "# Step1: Scrape Tweets"
   ]
  },
  {
   "cell_type": "markdown",
   "metadata": {},
   "source": [
    "### Use Tweepy API to search tweets. Only return a few days' tweets due to Twitter API limitations"
   ]
  },
  {
   "cell_type": "code",
   "execution_count": null,
   "metadata": {},
   "outputs": [],
   "source": [
    "import tweepy"
   ]
  },
  {
   "cell_type": "code",
   "execution_count": null,
   "metadata": {},
   "outputs": [],
   "source": [
    "# Specify the account credentials in the following variables:\n",
    "consumer_key = '6LH2LIMPGNWMxNE2a6LfILp7i'\n",
    "consumer_secret = '0eWTMNdazgVNCgt1lRCQapeN8O54GeonyGHREyebYQs7dL3upn'\n",
    "access_token = '78610351-PaQIZu59zNjgIX7OeaKlU1Jr9LMqCTxVmGa7vxLZM'\n",
    "access_token_secret = 'J32gDj3Vdi3bjB0IbisO0IoCKWadDogVeGgZSyv510jZ4'\n",
    "\n",
    "\n",
    "# Authenticate\n",
    "auth = tweepy.OAuthHandler(consumer_key, consumer_secret)\n",
    "auth.set_access_token(access_token, access_token_secret)\n",
    "\n",
    "api = tweepy.API(auth, wait_on_rate_limit=True) # 'wait on rate limit' is to avoid request failure"
   ]
  },
  {
   "cell_type": "code",
   "execution_count": null,
   "metadata": {},
   "outputs": [],
   "source": [
    "con=0\n",
    "for tweet in tweepy.Cursor(api.search, q={\"#currys\"}, count=10,\n",
    "                           lang=\"en\", since=\"2018-03-10\").items():\n",
    "    con+=1\n",
    "    print(\"\\n-----\\n\"+str(con)+\"\\n\"+str(tweet.created_at), tweet.text+ \"\\n-----\\n\")\n",
    "    with open('currys.txt','a',encoding=\"utf-8\") as f:\n",
    "        f.write(tweet.text)\n",
    "        f.write('\\n')"
   ]
  },
  {
   "cell_type": "markdown",
   "metadata": {},
   "source": [
    "### Use GetOldTweets3, a tool developed by some random guy in github, we can get old tweets. But much slower."
   ]
  },
  {
   "cell_type": "code",
   "execution_count": null,
   "metadata": {},
   "outputs": [],
   "source": [
    "import GetOldTweets3 as got"
   ]
  },
  {
   "cell_type": "code",
   "execution_count": null,
   "metadata": {},
   "outputs": [],
   "source": [
    "tweetCriteria = got.manager.TweetCriteria().setQuerySearch('#currys')\\\n",
    "                                           .setSince(\"2018-03-10\")\\\n",
    "                                           .setUntil(\"2019-03-10\")\\\n",
    "                                           .setMaxTweets(10000)\n",
    "tweet = got.manager.TweetManager.getTweets(tweetCriteria)[0]\n",
    "print(tweet.text)"
   ]
  },
  {
   "cell_type": "code",
   "execution_count": null,
   "metadata": {
    "scrolled": false
   },
   "outputs": [],
   "source": [
    "for i in range(10000):\n",
    "    tweet = got.manager.TweetManager.getTweets(tweetCriteria)[i]\n",
    "    print(i)\n",
    "    with open('currys.txt','a',encoding=\"utf-8\") as f:\n",
    "        f.write(tweet.text)\n",
    "        f.write('\\n')"
   ]
  },
  {
   "cell_type": "markdown",
   "metadata": {},
   "source": [
    "### Use Selenium to get tweets. Still slow because we have to wait for loading."
   ]
  },
  {
   "cell_type": "code",
   "execution_count": null,
   "metadata": {},
   "outputs": [],
   "source": [
    "import time\n",
    "from selenium import webdriver\n",
    "from selenium.webdriver.common.keys import Keys"
   ]
  },
  {
   "cell_type": "code",
   "execution_count": null,
   "metadata": {},
   "outputs": [],
   "source": [
    "import re"
   ]
  },
  {
   "cell_type": "markdown",
   "metadata": {},
   "source": [
    "for Currys, I combine @currys and #currys results (1 year).  \n",
    "1) for @currys, only 180 tweets  \n",
    "2) for #currys, 2715 tweets  \n",
    "3) combine them and delete duplicates, we got 2890 tweets"
   ]
  },
  {
   "cell_type": "code",
   "execution_count": null,
   "metadata": {},
   "outputs": [],
   "source": [
    "# for headless mode\n",
    "#chrome_options = webdriver.ChromeOptions()\n",
    "#chrome_options.add_argument('--headless')\n",
    "#chrome_options.add_argument('--disable-gpu')\n",
    "#browser = webdriver.Chrome(chrome_options=chrome_options)\n",
    "\n",
    "# for no image loading\n",
    "chromeOptions = webdriver.ChromeOptions()\n",
    "prefs = {'profile.managed_default_content_settings.images':2}\n",
    "chromeOptions.add_experimental_option(\"prefs\", prefs)\n",
    "browser = webdriver.Chrome(chrome_options=chromeOptions)\n",
    "# launch the browser\n",
    "#browser = webdriver.Chrome()\n",
    "# currys url\n",
    "#url = u'https://twitter.com/search?f=tweets&vertical=default&q=%23currys&src=typd'\n",
    "# ao url\n",
    "url = u'https://twitter.com/search?f=tweets&vertical=default&q=%40ao&src=typd&lang=zh-cn'\n",
    "browser.get(url)\n",
    "\n",
    "\n",
    "# Let the Tweets load\n",
    "time.sleep(1)\n",
    "\n",
    "# Find the body of the HTML page\n",
    "body = browser.find_element_by_tag_name('body')\n",
    "\n",
    "# Keep scrolling down using a simulation of the PAGE_DOWN button\n",
    "for _ in range(1500):\n",
    "    body.send_keys(Keys.PAGE_DOWN)\n",
    "    time.sleep(0.2)\n",
    "\n"
   ]
  },
  {
   "cell_type": "code",
   "execution_count": null,
   "metadata": {
    "scrolled": true
   },
   "outputs": [],
   "source": [
    "# Get the tweets by their class (similar to Beautifulsoup's find())\n",
    "#tweets = browser.find_elements_by_class_name('tweet-text')\n",
    "# Print Tweets\n",
    "count=0\n",
    "for tweet in tweets:\n",
    "    count+=1\n",
    "    print(count)\n",
    "    \n",
    "    review=re.sub('\\n',' ',tweet.text) # make each tweet a single paragraph so we can count later\n",
    "    #print(review)\n",
    "    with open('ao.txt','a',encoding=\"utf-8\") as f:\n",
    "        f.write(review)\n",
    "        f.write('\\n')"
   ]
  },
  {
   "cell_type": "code",
   "execution_count": null,
   "metadata": {},
   "outputs": [],
   "source": [
    "browser.quit()"
   ]
  },
  {
   "cell_type": "code",
   "execution_count": null,
   "metadata": {},
   "outputs": [],
   "source": [
    "# first open #currys and count the number\n",
    "with open('currys.txt','r',encoding='utf-8') as f:\n",
    "    currys=f.readlines()\n",
    "count=0\n",
    "for i in currys:\n",
    "    count+=1\n",
    "count"
   ]
  },
  {
   "cell_type": "code",
   "execution_count": null,
   "metadata": {},
   "outputs": [],
   "source": [
    "# then open @currys \n",
    "#add comments got from @currys and delete the duplicates\n",
    "with open('currys_1.txt','r',encoding='utf-8') as f:\n",
    "    currys_1=f.readlines()\n",
    "# create a file to contain the filtered data\n",
    "count=0\n",
    "small_currys=[]\n",
    "for i in currys_1:\n",
    "    if '#currys' not in i:\n",
    "        count+=1\n",
    "        small_currys.append(i)\n",
    "count"
   ]
  },
  {
   "cell_type": "code",
   "execution_count": null,
   "metadata": {},
   "outputs": [],
   "source": [
    "# combine the two\n",
    "currys_com=[]\n",
    "currys_com=currys+small_currys\n",
    "# count the number and read into new file\n",
    "count=0\n",
    "for i in currys_com:\n",
    "    count+=1\n",
    "    with open('currys_com.txt','a',encoding='utf-8') as f:\n",
    "        f.write(i)\n",
    "        f.write('\\n')\n",
    "count"
   ]
  },
  {
   "cell_type": "markdown",
   "metadata": {},
   "source": [
    "## To deal with crashing, we can do it mannually."
   ]
  },
  {
   "cell_type": "markdown",
   "metadata": {},
   "source": [
    "Take facebook data as an example. We can mannually scroll down and load the page before scraping."
   ]
  },
  {
   "cell_type": "code",
   "execution_count": null,
   "metadata": {},
   "outputs": [],
   "source": [
    "import time\n",
    "from selenium import webdriver\n",
    "from selenium.webdriver.common.keys import Keys\n",
    "from bs4 import BeautifulSoup\n",
    "\n",
    "browser = webdriver.Chrome()\n",
    "# change the URL to the one you want to open\n",
    "url = u'https://www.facebook.com/pg/AOLetsGo/community/?ref=page_internal'\n",
    "\n",
    "browser.get(url)\n",
    "time.sleep(1)\n",
    "body = browser.find_element_by_tag_name('body')\n",
    "body.send_keys(Keys.PAGE_DOWN)\n",
    "time.sleep(1)    \n",
    "body.send_keys(Keys.END)\n",
    "time.sleep(2)\n",
    "browser.find_element_by_link_text(\"Not Now\").click();"
   ]
  },
  {
   "cell_type": "code",
   "execution_count": null,
   "metadata": {},
   "outputs": [],
   "source": [
    "html_source = browser.page_source\n",
    "soup = BeautifulSoup(html_source, 'html.parser')\n",
    "count=0\n",
    "rating = soup.find_all('p')\n",
    "timestamp = soup.find_all('span',attrs = {'class' : 'timestampContent'})\n",
    "\n",
    "for ite in rating:\n",
    "    if(ite.text == \"...\"):\n",
    "        print(\" \")\n",
    "    else: \n",
    "        print(str(count))\n",
    "        print(ite.text)\n",
    "        count=count+1\n",
    "        with open('facebook_ao.txt','a',encoding='utf-8') as f:\n",
    "            f.write(ite.text)\n",
    "            f.write('\\n-----\\n')"
   ]
  },
  {
   "cell_type": "code",
   "execution_count": null,
   "metadata": {},
   "outputs": [],
   "source": [
    "browser.quit()"
   ]
  },
  {
   "cell_type": "markdown",
   "metadata": {},
   "source": [
    "# Step 2: Frequency analysis, wordcloud"
   ]
  },
  {
   "cell_type": "markdown",
   "metadata": {},
   "source": [
    "### Purpose: find the words customers mentioned most frequently, so we can gain some insight on what customers care about"
   ]
  },
  {
   "cell_type": "code",
   "execution_count": null,
   "metadata": {},
   "outputs": [],
   "source": [
    "import nltk\n",
    "import re\n",
    "from wordcloud import WordCloud"
   ]
  },
  {
   "cell_type": "code",
   "execution_count": null,
   "metadata": {},
   "outputs": [],
   "source": [
    "# treat the text as bag of words\n",
    "with open('currys.txt','r',encoding='utf-8') as f:\n",
    "    currys=f.read()"
   ]
  },
  {
   "cell_type": "markdown",
   "metadata": {},
   "source": [
    "Clean the data -- url, non-English character"
   ]
  },
  {
   "cell_type": "code",
   "execution_count": null,
   "metadata": {},
   "outputs": [],
   "source": [
    "# clean url\n",
    "currys_clean = re.sub(\"(https?|ftp|file)://[-A-Za-z0-9+&@#/%?=~_|!:,.;]+[-A-Za-z0-9+&@#/%=~_|]\", \"\", currys)             "
   ]
  },
  {
   "cell_type": "code",
   "execution_count": null,
   "metadata": {},
   "outputs": [],
   "source": [
    "# clean non-English characters\n",
    "currys_clean1 = re.sub('[^A-Za-z]',' ',currys_clean)"
   ]
  },
  {
   "cell_type": "markdown",
   "metadata": {},
   "source": [
    "##### Create stop words based on frequency"
   ]
  },
  {
   "cell_type": "code",
   "execution_count": null,
   "metadata": {},
   "outputs": [],
   "source": [
    "# create stopwords list for this case, keep updating according to output\n",
    "stopword_freq=[\"I\",\"i\", \"me\", \"my\", \"myself\", \"we\", \"our\", \"ours\", \"ourselves\", \"you\",\n",
    "           \"your\", \"yours\", \"yourself\", \"yourselves\", \"he\", \"him\", \"his\", \"himself\", \n",
    "           \"she\", \"her\", \"hers\", \"herself\", \"it\", \"its\", \"itself\", \"they\", \"them\", \n",
    "           \"their\", \"theirs\", \"themselves\", \"what\", \"which\", \"who\", \"whom\", \"this\",\n",
    "           \"that\", \"these\", \"those\", \"am\", \"is\", \"are\", \"was\", \"were\", \"be\", \"been\",\n",
    "           \"being\", \"have\", \"has\", \"had\", \"having\", \"do\", \"does\", \"did\", \"doing\", \n",
    "           \"a\", \"an\", \"the\", \"and\", \"but\", \"if\", \"or\", \"because\", \"as\", \"until\", \"while\",\n",
    "           \"of\", \"at\", \"by\", \"for\", \"with\", \"about\", \"against\", \"between\", \"into\",\n",
    "           \"through\", \"during\", \"before\", \"after\", \"above\", \"below\", \"to\", \"from\",\n",
    "           \"up\", \"down\", \"in\", \"out\", \"on\", \"off\", \"over\", \"under\", \"again\", \"further\", \n",
    "           \"then\", \"once\", \"here\", \"there\", \"when\", \"where\", \"why\", \"how\", \"all\", \"any\",\n",
    "           \"both\", \"each\", \"few\", \"more\", \"most\", \"other\", \"some\", \"such\", \"no\", \"nor\", \n",
    "           \"not\", \"only\", \"own\", \"same\", \"so\", \"than\", \"too\", \"very\", \"s\", \"t\", \"can\",\n",
    "           \"will\", \"just\", \"don\", \"should\", \"now\",\"via\",\"smart\",\"get\",\"black\",\"entertainment\",\"ireland\",\"london\",\"england\",\n",
    "              \"scotland\",\"wales\",\"londonislovinit\",\"one\",\"gb\",\"marked\",\"white\",\"new\",\"today\",\"bundle\",\"still\",\"day\",\"back\",\n",
    "              \"buy\",\"selected\",\"logik\",\"days\",\"told\",\"uk\",\"home\",\"never\",\"ve\",\"core\",\"even\",\"would\",\"half\",\"got\",\"gold\",\n",
    "              \"win\",\"warriors\",\"take\",\"red\",\"go\",\"month\",\"know\",\"lg\",\"jvc\",\"ever\",\"bought\",\"friday\",\"extra\",\"shop\",\n",
    "              \"tb\",\"built\",\"week\",\"range\",\"data\",\"re\",\"people\",\"last\",\"rt\",\"need\",\"stephen\",\"night\",\"want\"]"
   ]
  },
  {
   "cell_type": "code",
   "execution_count": null,
   "metadata": {},
   "outputs": [],
   "source": [
    "# tokenize\n",
    "tokens = nltk.word_tokenize(currys_clean1)\n",
    "# change all tokens into lower case\n",
    "tokens = [w.lower() for w in tokens]"
   ]
  },
  {
   "cell_type": "code",
   "execution_count": null,
   "metadata": {},
   "outputs": [],
   "source": [
    "# remove stop words\n",
    "filtered_words = [word for word in tokens if word not in stopword_freq]\n",
    "count=0\n",
    "for i in filtered_words:\n",
    "    count+=1\n",
    "count"
   ]
  },
  {
   "cell_type": "code",
   "execution_count": null,
   "metadata": {},
   "outputs": [],
   "source": [
    "# display the most frequent 25 words that has more than 1 letter\n",
    "freq_words=nltk.FreqDist(w for w in filtered_words if len(w)>1)\n",
    "print(freq_words.most_common(100))"
   ]
  },
  {
   "cell_type": "markdown",
   "metadata": {},
   "source": [
    "### Create word cloud"
   ]
  },
  {
   "cell_type": "code",
   "execution_count": null,
   "metadata": {},
   "outputs": [],
   "source": [
    "# delete currys for word cloud cuz they dont contain information\n",
    "stopword_cloud=stopword_freq+[\"currys\",\"pc\",\"world\",\"curryspcworld\"]"
   ]
  },
  {
   "cell_type": "code",
   "execution_count": null,
   "metadata": {},
   "outputs": [],
   "source": [
    "# use this liine if we use mask\n",
    "from scipy.misc import imread"
   ]
  },
  {
   "cell_type": "code",
   "execution_count": null,
   "metadata": {},
   "outputs": [],
   "source": [
    "# use this line if we use customed color\n",
    "import numpy as np"
   ]
  },
  {
   "cell_type": "code",
   "execution_count": null,
   "metadata": {},
   "outputs": [],
   "source": [
    "#bg_pic = imread('uk.png')\n",
    "wc = WordCloud( width=2000, height=1200, margin=2,background_color=\"white\", max_words=100, \n",
    "               stopwords=stopword_cloud)\n",
    "wc.generate(currys_clean1)\n",
    "\n",
    "\n"
   ]
  },
  {
   "cell_type": "code",
   "execution_count": null,
   "metadata": {},
   "outputs": [],
   "source": [
    "# design color function\n",
    "def grey_color_func(word, font_size, position,orientation,random_state=None, **kwargs):\n",
    "    return(\"hsl(230,100%%, %d%%)\" % np.random.randint(1,40))\n"
   ]
  },
  {
   "cell_type": "markdown",
   "metadata": {},
   "source": [
    "Some interesting words and patterns show up.  \n",
    "1) It seems that a large proportion of tweets are promotions via LatestDeal  \n",
    "2) TV seems to be star product"
   ]
  },
  {
   "cell_type": "code",
   "execution_count": null,
   "metadata": {},
   "outputs": [],
   "source": [
    "#wc.recolor(color_func = grey_color_func)\n",
    "import matplotlib.pyplot as plt\n",
    "plt.figure( figsize=(20,10) )\n",
    "plt.imshow(wc, interpolation='bilinear')\n",
    "plt.axis(\"off\")"
   ]
  },
  {
   "cell_type": "markdown",
   "metadata": {},
   "source": [
    "#### Have a look at the number of tweets excluding lduk promotion"
   ]
  },
  {
   "cell_type": "code",
   "execution_count": null,
   "metadata": {},
   "outputs": [],
   "source": [
    "with open('currys.txt','r',encoding='utf-8') as f:\n",
    "    currys=f.readlines()\n",
    "# clean each review\n",
    "currys_clean=[]\n",
    "for review in currys:\n",
    "    reivew=re.sub(\"(https?|ftp|file)://[-A-Za-z0-9+&@#/%?=~_|!:,.;]+[-A-Za-z0-9+&@#/%=~_|]\", \"\", review)\n",
    "    review=re.sub('[^A-Za-z]',' ',review)\n",
    "    currys_clean.append(review)\n",
    "currys_clean=[review for review in currys_clean if review.strip()!='']"
   ]
  },
  {
   "cell_type": "markdown",
   "metadata": {},
   "source": [
    "Count all tweets (after cleaning and excluding empty string) -- 4814"
   ]
  },
  {
   "cell_type": "code",
   "execution_count": null,
   "metadata": {},
   "outputs": [],
   "source": [
    "count_all=0\n",
    "for i in currys_clean:\n",
    "    count_all+=1\n",
    "count_all"
   ]
  },
  {
   "cell_type": "markdown",
   "metadata": {},
   "source": [
    "Count tweets without promotion tweets --3502"
   ]
  },
  {
   "cell_type": "code",
   "execution_count": null,
   "metadata": {},
   "outputs": [],
   "source": [
    "count_cus=0\n",
    "for review in currys_clean:\n",
    "    if 'lduk' not in review:\n",
    "        count_cus+=1\n",
    "count_cus"
   ]
  },
  {
   "cell_type": "markdown",
   "metadata": {},
   "source": [
    "Therefore, only 73% of tweets are from customers"
   ]
  },
  {
   "cell_type": "markdown",
   "metadata": {},
   "source": [
    "# Step 3: Sentiment Analysis"
   ]
  },
  {
   "cell_type": "code",
   "execution_count": 452,
   "metadata": {},
   "outputs": [],
   "source": [
    "import nltk\n",
    "from nltk.sentiment.vader import SentimentIntensityAnalyzer as SIA"
   ]
  },
  {
   "cell_type": "code",
   "execution_count": 453,
   "metadata": {},
   "outputs": [],
   "source": [
    "import re"
   ]
  },
  {
   "cell_type": "code",
   "execution_count": 454,
   "metadata": {},
   "outputs": [
    {
     "data": {
      "text/plain": [
       "2890"
      ]
     },
     "execution_count": 454,
     "metadata": {},
     "output_type": "execute_result"
    }
   ],
   "source": [
    "currys=[]\n",
    "with open('currys.txt','r',encoding='utf-8') as f:\n",
    "    currys=f.readlines()\n",
    "\n",
    "count=0\n",
    "for i in currys:\n",
    "    count+=1\n",
    "count"
   ]
  },
  {
   "cell_type": "code",
   "execution_count": null,
   "metadata": {},
   "outputs": [],
   "source": [
    "# get half a year data from currys\n",
    "currys6=[]\n",
    "for i in range(1445):\n",
    "    currys6.append(currys[i])\n",
    "count=0\n",
    "for i in currys6:\n",
    "    count+=1\n",
    "count"
   ]
  },
  {
   "cell_type": "code",
   "execution_count": null,
   "metadata": {},
   "outputs": [],
   "source": [
    "ao=[]\n",
    "with open('ao.txt','r',encoding='utf-8') as f:\n",
    "    ao=f.readlines()\n",
    "count=0\n",
    "for i in ao:\n",
    "    count+=1\n",
    "count"
   ]
  },
  {
   "cell_type": "code",
   "execution_count": null,
   "metadata": {},
   "outputs": [],
   "source": [
    "argos=[]\n",
    "with open('argos.txt','r',encoding='utf-8') as f:\n",
    "    argos=f.readlines()\n",
    "count=0\n",
    "for i in argos:\n",
    "    count+=1\n",
    "count"
   ]
  },
  {
   "cell_type": "markdown",
   "metadata": {},
   "source": [
    "cleaning the data"
   ]
  },
  {
   "cell_type": "code",
   "execution_count": 455,
   "metadata": {},
   "outputs": [
    {
     "data": {
      "text/plain": [
       "2888"
      ]
     },
     "execution_count": 455,
     "metadata": {},
     "output_type": "execute_result"
    }
   ],
   "source": [
    "# clean each review\n",
    "currys_clean=[]\n",
    "for review in currys:\n",
    "    reivew=re.sub(\"(https?|ftp|file)://[-A-Za-z0-9+&@#/%?=~_|!:,.;]+[-A-Za-z0-9+&@#/%=~_|]\", \"\", review)\n",
    "    review=re.sub('[^A-Za-z]',' ',review)\n",
    "    currys_clean.append(review)\n",
    "currys_clean=[review for review in currys_clean if review.strip()!='']\n",
    "count=0\n",
    "for i in currys_clean:\n",
    "    count+=1\n",
    "count"
   ]
  },
  {
   "cell_type": "code",
   "execution_count": null,
   "metadata": {},
   "outputs": [],
   "source": [
    "ao_clean=[]\n",
    "for review in ao:\n",
    "    reivew=re.sub(\"(https?|ftp|file)://[-A-Za-z0-9+&@#/%?=~_|!:,.;]+[-A-Za-z0-9+&@#/%=~_|]\", \"\", review)\n",
    "    review=re.sub('[^A-Za-z]',' ',review)\n",
    "    ao_clean.append(review)\n",
    "ao_clean=[review for review in ao_clean if review.strip()!='']\n",
    "count=0\n",
    "for i in ao_clean:\n",
    "    count+=1\n",
    "count"
   ]
  },
  {
   "cell_type": "code",
   "execution_count": null,
   "metadata": {},
   "outputs": [],
   "source": [
    "argos_clean=[]\n",
    "for review in argos:\n",
    "    reivew=re.sub(\"(https?|ftp|file)://[-A-Za-z0-9+&@#/%?=~_|!:,.;]+[-A-Za-z0-9+&@#/%=~_|]\", \"\", review)\n",
    "    review=re.sub('[^A-Za-z]',' ',review)\n",
    "    argos_clean.append(review)\n",
    "argos_clean=[review for review in argos_clean if review.strip()!='']\n",
    "count=0\n",
    "for i in argos_clean:\n",
    "    count+=1\n",
    "count"
   ]
  },
  {
   "cell_type": "code",
   "execution_count": null,
   "metadata": {},
   "outputs": [],
   "source": [
    "# delete non-customer tweets recursively according to results for currys\n",
    "tokens_currys=[]\n",
    "for review in currys_clean:\n",
    "    token=nltk.word_tokenize(review)\n",
    "    filtered_words = [word for word in token if word not in stopword and len(word)>2]\n",
    "    tokens_currys=tokens_currys+filtered_words"
   ]
  },
  {
   "cell_type": "code",
   "execution_count": null,
   "metadata": {},
   "outputs": [],
   "source": [
    "freq_words_currys=nltk.FreqDist(tokens_currys)"
   ]
  },
  {
   "cell_type": "code",
   "execution_count": null,
   "metadata": {},
   "outputs": [],
   "source": [
    "common_words_currys=freq_words_currys.most_common(30)\n",
    "print(common_words_currys)"
   ]
  },
  {
   "cell_type": "code",
   "execution_count": 456,
   "metadata": {},
   "outputs": [
    {
     "data": {
      "text/plain": [
       "1268"
      ]
     },
     "execution_count": 456,
     "metadata": {},
     "output_type": "execute_result"
    }
   ],
   "source": [
    "# remove promotion, only keep customer reviews\n",
    "currys_clean=[review for review in currys_clean if 'lduk' not in review]\n",
    "currys_clean=[review for review in currys_clean if 'PromoCode' not in review]\n",
    "currys_clean=[review for review in currys_clean if 'food' not in review]\n",
    "currys_clean=[review for review in currys_clean if 'Food' not in review]\n",
    "currys_clean=[review for review in currys_clean if 'Smart Tech' not in review]\n",
    "currys_clean=[review for review in currys_clean if 'Stephen Curry' not in review]\n",
    "count=0\n",
    "for i in currys_clean:\n",
    "    count+=1\n",
    "count"
   ]
  },
  {
   "cell_type": "code",
   "execution_count": null,
   "metadata": {},
   "outputs": [],
   "source": [
    "# delete non-customer tweets recursively according to results for ao\n",
    "tokens_ao=[]\n",
    "for review in ao_clean:\n",
    "    token=nltk.word_tokenize(review)\n",
    "    filtered_words = [word for word in token if word not in stopword and len(word)>2]\n",
    "    tokens_ao=tokens_ao+filtered_words"
   ]
  },
  {
   "cell_type": "code",
   "execution_count": null,
   "metadata": {},
   "outputs": [],
   "source": [
    "freq_words_ao=nltk.FreqDist(tokens_ao)\n",
    "common_words_ao=freq_words_ao.most_common(30)\n",
    "print(common_words_ao)"
   ]
  },
  {
   "cell_type": "code",
   "execution_count": null,
   "metadata": {},
   "outputs": [],
   "source": [
    "# remove\n",
    "ao_clean=[review for review in ao_clean if 'AOWin' not in review]\n",
    "ao_clean=[review for review in ao_clean if 'DM' not in review]\n",
    "ao_clean=[review for review in ao_clean if 'Rayhaan' not in review]\n",
    "ao_clean=[review for review in ao_clean if 'Rob' not in review]\n",
    "ao_clean=[review for review in ao_clean if 'FreebieFriday' not in review]\n",
    "ao_clean=[review for review in ao_clean if 'customersvoice' not in review]\n",
    "count=0\n",
    "for i in ao_clean:\n",
    "    count+=1\n",
    "count"
   ]
  },
  {
   "cell_type": "code",
   "execution_count": null,
   "metadata": {},
   "outputs": [],
   "source": [
    "# delete non-customer tweets recursively according to results for argos\n",
    "tokens_argos=[]\n",
    "for review in argos_clean:\n",
    "    token=nltk.word_tokenize(review)\n",
    "    filtered_words = [word for word in token if word not in stopword and len(word)>2]\n",
    "    tokens_argos=tokens_argos+filtered_words"
   ]
  },
  {
   "cell_type": "code",
   "execution_count": null,
   "metadata": {},
   "outputs": [],
   "source": [
    "freq_words_argos=nltk.FreqDist(tokens_argos)\n",
    "common_words_argos=freq_words_argos.most_common(30)\n",
    "print(common_words_argos)"
   ]
  },
  {
   "cell_type": "code",
   "execution_count": null,
   "metadata": {},
   "outputs": [],
   "source": [
    "# remove\n",
    "argos_clean=[review for review in argos_clean if 'CFL' not in review]\n",
    "argos_clean=[review for review in argos_clean if 'Giftcards' not in review]\n",
    "argos_clean=[review for review in argos_clean if 'que' not in review]\n",
    "argos_clean=[review for review in argos_clean if 'hiring' not in review]\n",
    "count=0\n",
    "for i in argos_clean:\n",
    "    count+=1\n",
    "count"
   ]
  },
  {
   "cell_type": "code",
   "execution_count": null,
   "metadata": {
    "scrolled": false
   },
   "outputs": [],
   "source": [
    "for i in argos_clean:\n",
    "    if 'utm' in i:\n",
    "        print(i)\n",
    "        print('----------')"
   ]
  },
  {
   "cell_type": "markdown",
   "metadata": {},
   "source": [
    "after cleaning the data, calculate sentiment scores"
   ]
  },
  {
   "cell_type": "code",
   "execution_count": 457,
   "metadata": {},
   "outputs": [],
   "source": [
    "# Create a sentiment intensity analyzer object:\n",
    "sid = SIA()\n",
    "total_count=0\n",
    "neg_count=0\n",
    "pos_count=0\n",
    "neu_count=0\n",
    "\n",
    "neg_review=[]\n",
    "pos_review=[]\n",
    "neu_review=[]\n",
    "\n",
    "# Loop the sentences\n",
    "for review in currys_clean:\n",
    "    ss = sid.polarity_scores(review) \n",
    "    #print(ss)\n",
    "    total_count+=1\n",
    "    if ss['compound'] < 0:\n",
    "        neg_count+=1\n",
    "        neg_review.append(review)\n",
    "        #print(sentence, ' is overall negative ', ss['compound'])\n",
    "    elif ss['compound'] == 0:\n",
    "        neu_count+=1\n",
    "        neu_review.append(review)\n",
    "        #print(sentence, ' is overall neutral')\n",
    "    else:\n",
    "        pos_count+=1\n",
    "        pos_review.append(review)\n",
    "        #print(sentence, ' is overall positive ', ss['compound'])"
   ]
  },
  {
   "cell_type": "markdown",
   "metadata": {},
   "source": [
    "Calculate the proportion of different reviews"
   ]
  },
  {
   "cell_type": "code",
   "execution_count": 458,
   "metadata": {},
   "outputs": [
    {
     "name": "stdout",
     "output_type": "stream",
     "text": [
      "total_count 1268 \n",
      " neg_count 459 \n",
      " pos_count 541 \n",
      " neu_count 268\n"
     ]
    }
   ],
   "source": [
    "print('total_count',total_count,'\\n','neg_count',neg_count,'\\n','pos_count',pos_count,'\\n','neu_count',neu_count)"
   ]
  },
  {
   "cell_type": "markdown",
   "metadata": {},
   "source": [
    "### Analyze the frequency of positive and negative tweets"
   ]
  },
  {
   "cell_type": "code",
   "execution_count": 459,
   "metadata": {},
   "outputs": [],
   "source": [
    "# Change everything to lowercase\n",
    "neg_review = [review.lower() for review in neg_review]\n",
    "pos_review = [review.lower() for review in pos_review]"
   ]
  },
  {
   "cell_type": "code",
   "execution_count": null,
   "metadata": {},
   "outputs": [],
   "source": [
    "# create a stopword list for this\n",
    "stopword=[\"I\",\"i\", \"me\", \"my\", \"myself\", \"we\", \"our\", \"ours\", \"ourselves\", \"you\",\n",
    "           \"your\", \"yours\", \"yourself\", \"yourselves\", \"he\", \"him\", \"his\", \"himself\", \n",
    "           \"she\", \"her\", \"hers\", \"herself\", \"it\", \"its\", \"itself\", \"they\", \"them\", \n",
    "           \"their\", \"theirs\", \"themselves\", \"what\", \"which\", \"who\", \"whom\", \"this\",\n",
    "           \"that\", \"these\", \"those\", \"am\", \"is\", \"are\", \"was\", \"were\", \"be\", \"been\",\n",
    "           \"being\", \"have\", \"has\", \"had\", \"having\", \"do\", \"does\", \"did\", \"doing\", \n",
    "           \"a\", \"an\", \"the\", \"and\", \"but\", \"if\", \"or\", \"because\", \"as\", \"until\", \"while\",\n",
    "           \"of\", \"at\", \"by\", \"for\", \"with\", \"about\", \"against\", \"between\", \"into\",\n",
    "           \"through\", \"during\", \"before\", \"after\", \"above\", \"below\", \"to\", \"from\",\n",
    "           \"up\", \"down\", \"in\", \"out\", \"on\", \"off\", \"over\", \"under\", \"again\", \"further\", \n",
    "           \"then\", \"once\", \"here\", \"there\", \"when\", \"where\", \"why\", \"how\", \"all\", \"any\",\n",
    "           \"both\", \"each\", \"few\", \"more\", \"most\", \"other\", \"some\", \"such\", \"no\", \"nor\", \n",
    "           \"not\", \"only\", \"own\", \"same\", \"so\", \"than\", \"too\", \"very\", \"s\", \"t\", \"can\",\n",
    "           \"will\", \"just\", \"don\", \"should\", \"now\",\"via\",\"smart\",\"get\",\"black\",\"entertainment\",\"ireland\",\"london\",\"england\",\n",
    "              \"scotland\",\"wales\",\"londonislovinit\",\"one\",\"gb\",\"marked\",\"white\",\"new\",\"today\",\"bundle\",\"still\",\"day\",\"back\",\n",
    "              \"selected\",\"logik\",\"told\",\"uk\",\"home\",\"ve\",\"core\",\"even\",\"would\",\"half\",\"got\",\"gold\",\n",
    "              \"win\",\"warriors\",\"take\",\"red\",\"go\",\"month\",\"know\",\"lg\",\"jvc\",\"ever\",\"bought\",\"extra\",\n",
    "              \"tb\",\"built\",\"range\",\"data\",\"re\",\"last\",\"rt\",\"need\",\"stephen\",\"night\",\"want\",\n",
    "         \"www\",\"http\",\"https\"]\n",
    "    "
   ]
  },
  {
   "cell_type": "code",
   "execution_count": null,
   "metadata": {},
   "outputs": [],
   "source": [
    "# create tokens and bigrams for review\n",
    "# for negative reviews\n",
    "tokens_neg=[]\n",
    "bigrams_neg=[]\n",
    "for review in neg_review:\n",
    "    token=nltk.word_tokenize(review)\n",
    "    filtered_words = [word for word in token if word not in stopword_topic and len(word)>2]\n",
    "    tokens_neg=tokens_neg+filtered_words\n",
    "\n",
    "bigrams_neg=list(nltk.bigrams(tokens_neg))\n",
    "  \n",
    "# for positive reviews\n",
    "tokens_pos=[]\n",
    "bigrams_pos=[]\n",
    "for review in pos_review:\n",
    "    token=nltk.word_tokenize(review)\n",
    "    filtered_words = [word for word in token if word not in stopword_topic and len(word)>2]\n",
    "    tokens_pos=tokens_pos+filtered_words\n",
    "\n",
    "bigrams_pos=list(nltk.bigrams(tokens_pos))"
   ]
  },
  {
   "cell_type": "code",
   "execution_count": null,
   "metadata": {},
   "outputs": [],
   "source": [
    "# get frequent words and bigrams\n",
    "freq_words_neg=nltk.FreqDist(tokens_neg)\n",
    "freq_bigrams_neg=nltk.FreqDist(bigrams_neg)\n",
    "freq_words_pos=nltk.FreqDist(tokens_pos)\n",
    "freq_bigrams_pos=nltk.FreqDist(bigrams_pos)"
   ]
  },
  {
   "cell_type": "code",
   "execution_count": null,
   "metadata": {},
   "outputs": [],
   "source": [
    "# most common words for negative reviews\n",
    "common_words_neg=freq_words_neg.most_common(20)\n",
    "print(common_words_neg)"
   ]
  },
  {
   "cell_type": "code",
   "execution_count": null,
   "metadata": {},
   "outputs": [],
   "source": [
    "# most common bigrams for negative reviews\n",
    "common_bigrams_neg=freq_bigrams_neg.most_common(20)\n",
    "print(common_bigrams_neg)"
   ]
  },
  {
   "cell_type": "code",
   "execution_count": null,
   "metadata": {},
   "outputs": [],
   "source": [
    "# most common words for positive reviews\n",
    "common_words_pos=freq_words_pos.most_common(20)\n",
    "print(common_words_pos)"
   ]
  },
  {
   "cell_type": "code",
   "execution_count": null,
   "metadata": {},
   "outputs": [],
   "source": [
    "# most common bigrams for positive reviews\n",
    "common_bigrams_pos=freq_bigrams_pos.most_common(20)\n",
    "print(common_bigrams_pos)"
   ]
  },
  {
   "cell_type": "code",
   "execution_count": null,
   "metadata": {},
   "outputs": [],
   "source": [
    "for i in currys_clean:\n",
    "    if '' in i:\n",
    "        print(i)"
   ]
  },
  {
   "cell_type": "markdown",
   "metadata": {},
   "source": [
    "### Create wordcloud for negative reviews"
   ]
  },
  {
   "cell_type": "code",
   "execution_count": null,
   "metadata": {},
   "outputs": [],
   "source": [
    "from wordcloud import WordCloud"
   ]
  },
  {
   "cell_type": "code",
   "execution_count": null,
   "metadata": {},
   "outputs": [],
   "source": [
    "neg_tweets=''\n",
    "for review in neg_review:\n",
    "    neg_tweets=neg_tweets+' '+review\n",
    "neg_tweets"
   ]
  },
  {
   "cell_type": "code",
   "execution_count": null,
   "metadata": {},
   "outputs": [],
   "source": [
    "stopword_cloud=stopword+['currys','curryspcworld','pc','world','teamknowhowuk','pcworld','teamknowhow']"
   ]
  },
  {
   "cell_type": "code",
   "execution_count": null,
   "metadata": {},
   "outputs": [],
   "source": [
    "#bg_pic = imread('uk.png')\n",
    "wc = WordCloud( width=2000, height=1200, margin=2,background_color=\"white\", max_words=100, \n",
    "               stopwords=stopword_cloud)\n",
    "wc.generate(neg_tweets)"
   ]
  },
  {
   "cell_type": "code",
   "execution_count": null,
   "metadata": {},
   "outputs": [],
   "source": [
    "#wc.recolor(color_func = grey_color_func)\n",
    "import matplotlib.pyplot as plt\n",
    "plt.figure( figsize=(20,10) )\n",
    "plt.imshow(wc, interpolation='bilinear')\n",
    "plt.axis(\"off\")"
   ]
  },
  {
   "cell_type": "code",
   "execution_count": null,
   "metadata": {},
   "outputs": [],
   "source": []
  },
  {
   "cell_type": "markdown",
   "metadata": {},
   "source": [
    "# Step 4: Topic Modelling "
   ]
  },
  {
   "cell_type": "markdown",
   "metadata": {},
   "source": [
    "### If we only focus on negative reviews about customer service, we combine data from twitter and facebook:"
   ]
  },
  {
   "cell_type": "code",
   "execution_count": 460,
   "metadata": {},
   "outputs": [
    {
     "data": {
      "text/plain": [
       "163"
      ]
     },
     "execution_count": 460,
     "metadata": {},
     "output_type": "execute_result"
    }
   ],
   "source": [
    "# get negative customer review from twitter\n",
    "cs_tt=[]\n",
    "count=0\n",
    "for i in neg_review:\n",
    "    if 'service' in i:\n",
    "        cs_tt.append(i)\n",
    "        count+=1\n",
    "count"
   ]
  },
  {
   "cell_type": "code",
   "execution_count": 461,
   "metadata": {},
   "outputs": [
    {
     "data": {
      "text/plain": [
       "5080"
      ]
     },
     "execution_count": 461,
     "metadata": {},
     "output_type": "execute_result"
    }
   ],
   "source": [
    "# get facebook negative posts\n",
    "neg_fb=[]\n",
    "with open('neg_cs_fb.txt','r',encoding='utf-8') as f:\n",
    "    neg_fb=f.readlines()\n",
    "count=0\n",
    "for i in neg_fb:\n",
    "    count+=1\n",
    "count"
   ]
  },
  {
   "cell_type": "code",
   "execution_count": 462,
   "metadata": {},
   "outputs": [
    {
     "data": {
      "text/plain": [
       "887"
      ]
     },
     "execution_count": 462,
     "metadata": {},
     "output_type": "execute_result"
    }
   ],
   "source": [
    "# get facebook customer services posts\n",
    "count=0\n",
    "cs_fb=[]\n",
    "for i in neg_fb:\n",
    "    if 'service' in i:\n",
    "        cs_fb.append(i)\n",
    "        count+=1\n",
    "count"
   ]
  },
  {
   "cell_type": "code",
   "execution_count": 463,
   "metadata": {},
   "outputs": [
    {
     "data": {
      "text/plain": [
       "1050"
      ]
     },
     "execution_count": 463,
     "metadata": {},
     "output_type": "execute_result"
    }
   ],
   "source": [
    "# combine them\n",
    "cs=[]\n",
    "cs=cs_tt+cs_fb\n",
    "count=0\n",
    "for i in cs:\n",
    "    count+=1\n",
    "count"
   ]
  },
  {
   "cell_type": "code",
   "execution_count": 522,
   "metadata": {},
   "outputs": [],
   "source": [
    "for i in cs:\n",
    "    with open('cs.txt','a',encoding='utf-8') as f:\n",
    "        f.write(i)\n",
    "        f.write('\\n')"
   ]
  },
  {
   "cell_type": "code",
   "execution_count": 500,
   "metadata": {},
   "outputs": [],
   "source": [
    "# create stopwords for topic modelling, keep updating according to output \n",
    "# (compared to stopwords for frequency analysis, this list adds a lot of adjectives)\n",
    "stopword_basic=['few', 'want', 'be', 'itself', 'we', 'here', 'so', 'wha', 'their', 'let',\n",
    "            'yer', 'they', 'have', 'iep', 'didn', 'should', 'yay', 'his', 'I', 'doing',\n",
    "            'or', 'only', 'an', 'same', 'going', 'yourselves', 'above', 'some', 'thank',\n",
    "            'will', 'against', 'off', 'having', 'very', 'thanks', 'than', 'and', 'under',\n",
    "            'more', 'with', 'no', 'get', 'when', 'ours', 'other', 't', 'most', 'my',\n",
    "            'awesome', 'being', 'once', 'know', 'use', 'if', 'herself', 'like', 'nice', \n",
    "            'during', 'don', 'hey', 'down', 'its', 'of', 's', 'there', 'nzdt', 'our', 'was',\n",
    "            'not', 'too', 'say', 'themselves', 'him', 'could', 'who', 'while', 'just', 'com',\n",
    "            'ourselves', 'myself', 'yep', 'those', 'top', 'been', 'in', 'that', 'a', 'yours',\n",
    "            'this', 'wow', 'new', 'the', 'par', 'theirs', 'am', 'amp', 'aest', 'does', 'what',\n",
    "            'into', 'make', 'is', 'it', 'them', 'such', 'were', 'can', 'why', 'yourself', 'best',\n",
    "            'after', 'are', 'pln', 'where', 'at', 'pst', 'hoo', 'which', 'got', 'before', 'hers', \n",
    "            'nor', 'then', 'own', 'how', 'further', 'hmm', 'had', 'but', 'as', 'he', 'to', 'her',\n",
    "            'between', 'one', 'me', 'about', 'each', 'whom', 'your', 'by', 'pdt', 'out', 'via',\n",
    "            'below', 'hop', 'ooo', 'because', 'through', 'yes', 'did', 'you', 'has', 'really', \n",
    "            'see', 'until', 'would', 'from', 'again', 'these', 'all', 'himself', 'great', 'i',\n",
    "            'both', 'now', 'up', 'for', 'good', 'on', 'she', 'over', 'do', 'any','via','late']\n",
    "stopword_update=['currys','curryspcworld','pc','world','teamknowhowuk','pcworld','teamknowhow','www','http','https',\n",
    "                'today','american','ve','day','told','buy','pay','company','knowhow','gb','news','mm','store',\n",
    "                'order','yesterday','money','useless','received','customer','service','bad','poor',\n",
    "                'shocking','terrible','absolutely','disappointed','appalled','awful','worst','customerservice',\n",
    "                'customerservices','poorservice','badcustomerservice','badservice','poorcustomerservice','appalling',\n",
    "                'curry','extremely','speak','said','dreadful','ridiculous','frustrating','disappointing',\n",
    "                'crap','given','help','non','ever','experienced','paid','even','back','still','team','never','existent',\n",
    "                'item','way','guy','using','getting','think','come','online','avoid','also','level']\n",
    "stopword_topic=stopword_basic+stopword_update"
   ]
  },
  {
   "cell_type": "code",
   "execution_count": 465,
   "metadata": {},
   "outputs": [],
   "source": [
    "from nltk.corpus import wordnet as wn\n",
    "from nltk.stem import WordNetLemmatizer\n",
    "wn_lem = WordNetLemmatizer()"
   ]
  },
  {
   "cell_type": "code",
   "execution_count": 501,
   "metadata": {},
   "outputs": [],
   "source": [
    "# tokenize, lemmatize, remove stopwords and words with one letter\n",
    "tokens=[]\n",
    "for review in cs:\n",
    "    token = nltk.word_tokenize(review)\n",
    "    tokens.append(token)\n",
    "lemma_tokens=[]\n",
    "for review in tokens:\n",
    "    lemma_review=[]\n",
    "    for word in review:\n",
    "        lemma_review.append(wn_lem.lemmatize(word))\n",
    "    filtered_words = [word for word in lemma_review if word not in stopword_topic and len(word)>2]\n",
    "    lemma_tokens.append(filtered_words)\n"
   ]
  },
  {
   "cell_type": "code",
   "execution_count": 502,
   "metadata": {},
   "outputs": [],
   "source": [
    "# Remove words that only occur once to reduce computation later\n",
    "from collections import defaultdict\n",
    "token_frequency = defaultdict(int)\n",
    "\n",
    "# count all token\n",
    "for review in lemma_tokens:\n",
    "    for word in review:\n",
    "        token_frequency[word] += 1\n",
    "\n",
    "# keep words that occur more than once\n",
    "lemma_tokens = [ [word for word in review if token_frequency[word] > 1]\n",
    "                for review in lemma_tokens  ]\n"
   ]
  },
  {
   "cell_type": "markdown",
   "metadata": {},
   "source": [
    "Combine cleaned tokens into tweets, as TfidfVectorizer only deals with string"
   ]
  },
  {
   "cell_type": "code",
   "execution_count": 503,
   "metadata": {},
   "outputs": [],
   "source": [
    "tweets=[]\n",
    "for review in lemma_tokens:\n",
    "    if review!=[]:\n",
    "        tweet=''\n",
    "        for word in review:\n",
    "            tweet=tweet+' '+word\n",
    "    tweets.append(tweet)"
   ]
  },
  {
   "cell_type": "code",
   "execution_count": null,
   "metadata": {},
   "outputs": [],
   "source": [
    "for i in tweets:\n",
    "    if 'frustrating' in i:\n",
    "        print(i)"
   ]
  },
  {
   "cell_type": "markdown",
   "metadata": {},
   "source": [
    "##### But it seems only gensim can calculate coherence score so we build another lda model called lda_model to decide the optimal topics before building real models"
   ]
  },
  {
   "cell_type": "code",
   "execution_count": 469,
   "metadata": {},
   "outputs": [],
   "source": [
    "from gensim.corpora.dictionary import Dictionary\n",
    "from gensim.models.coherencemodel import CoherenceModel\n",
    "from gensim.models.ldamodel import LdaModel"
   ]
  },
  {
   "cell_type": "code",
   "execution_count": 470,
   "metadata": {},
   "outputs": [],
   "source": [
    "dictionary = Dictionary(tokens)\n",
    "dictionary.filter_extremes(no_below=10, no_above=0.2)\n",
    "corpus = [dictionary.doc2bow(tweet) for tweet in tokens]"
   ]
  },
  {
   "cell_type": "code",
   "execution_count": null,
   "metadata": {},
   "outputs": [],
   "source": [
    "# Build LDA model\n",
    "lda_model = LdaModel(corpus=corpus,\n",
    "                                           id2word=dictionary,\n",
    "                                           num_topics=8, \n",
    "                                           random_state=100,\n",
    "                                           update_every=1,\n",
    "                                           chunksize=100,\n",
    "                                           passes=10,\n",
    "                                           alpha='auto',\n",
    "                                           per_word_topics=True)"
   ]
  },
  {
   "cell_type": "code",
   "execution_count": null,
   "metadata": {},
   "outputs": [],
   "source": [
    "\n",
    "# Compute Coherence Score using c_v\n",
    "coherence_model_lda = CoherenceModel(model=lda_model, texts=tokens, dictionary=dictionary, coherence='c_v')\n",
    "coherence_lda = coherence_model_lda.get_coherence()\n",
    "print('\\nCoherence Score: ', coherence_lda)"
   ]
  },
  {
   "cell_type": "markdown",
   "metadata": {},
   "source": [
    "3: Coherence Score:  0.32  \n",
    "4: Coherence Score:  0.38  \n",
    "5: Coherence Score:  0.38  \n",
    "6: Coherence Score:  0.39  \n",
    "7: Coherence Score:  0.36  \n",
    "8: Coherence Score:  0.38"
   ]
  },
  {
   "cell_type": "markdown",
   "metadata": {},
   "source": [
    "#### from the result, we will try 4/5/6 topics"
   ]
  },
  {
   "cell_type": "markdown",
   "metadata": {},
   "source": [
    "##### Start topic modelling"
   ]
  },
  {
   "cell_type": "markdown",
   "metadata": {},
   "source": [
    "create vector matrix"
   ]
  },
  {
   "cell_type": "code",
   "execution_count": 472,
   "metadata": {},
   "outputs": [],
   "source": [
    "from sklearn.feature_extraction.text import TfidfVectorizer, CountVectorizer"
   ]
  },
  {
   "cell_type": "code",
   "execution_count": 473,
   "metadata": {},
   "outputs": [],
   "source": [
    "# restrict the dimentionality of features\n",
    "n_features = 1000"
   ]
  },
  {
   "cell_type": "code",
   "execution_count": 504,
   "metadata": {},
   "outputs": [],
   "source": [
    "tf_vectorizer = CountVectorizer(strip_accents = 'unicode',\n",
    "                                max_features=n_features,\n",
    "                                stop_words=stopword_topic,\n",
    "                                )\n",
    "tf = tf_vectorizer.fit_transform(tweets)"
   ]
  },
  {
   "cell_type": "markdown",
   "metadata": {},
   "source": [
    "Train LDA models"
   ]
  },
  {
   "cell_type": "code",
   "execution_count": 475,
   "metadata": {},
   "outputs": [],
   "source": [
    "from sklearn.decomposition import LatentDirichletAllocation"
   ]
  },
  {
   "cell_type": "code",
   "execution_count": 505,
   "metadata": {},
   "outputs": [],
   "source": [
    "# decide number of topics\n",
    "n_topics = 6\n",
    "lda = LatentDirichletAllocation(n_topics=n_topics, max_iter=50,\n",
    "                                learning_method='online',\n",
    "                                learning_offset=50.,\n",
    "                                random_state=0)"
   ]
  },
  {
   "cell_type": "code",
   "execution_count": 506,
   "metadata": {},
   "outputs": [
    {
     "name": "stderr",
     "output_type": "stream",
     "text": [
      "C:\\Users\\xueli\\Anaconda3\\lib\\site-packages\\sklearn\\decomposition\\online_lda.py:314: DeprecationWarning: n_topics has been renamed to n_components in version 0.19 and will be removed in 0.21\n",
      "  DeprecationWarning)\n"
     ]
    },
    {
     "data": {
      "text/plain": [
       "LatentDirichletAllocation(batch_size=128, doc_topic_prior=None,\n",
       "             evaluate_every=-1, learning_decay=0.7,\n",
       "             learning_method='online', learning_offset=50.0,\n",
       "             max_doc_update_iter=100, max_iter=50, mean_change_tol=0.001,\n",
       "             n_components=10, n_jobs=None, n_topics=6, perp_tol=0.1,\n",
       "             random_state=0, topic_word_prior=None,\n",
       "             total_samples=1000000.0, verbose=0)"
      ]
     },
     "execution_count": 506,
     "metadata": {},
     "output_type": "execute_result"
    }
   ],
   "source": [
    "# train the data. There will be warnings but just ignore them.\n",
    "lda.fit(tf)"
   ]
  },
  {
   "cell_type": "markdown",
   "metadata": {},
   "source": [
    "Visualize the output.The graph is interactive."
   ]
  },
  {
   "cell_type": "code",
   "execution_count": 478,
   "metadata": {},
   "outputs": [],
   "source": [
    "import pyLDAvis\n",
    "import pyLDAvis.sklearn"
   ]
  },
  {
   "cell_type": "code",
   "execution_count": 507,
   "metadata": {},
   "outputs": [
    {
     "data": {
      "text/html": [
       "\n",
       "<link rel=\"stylesheet\" type=\"text/css\" href=\"https://cdn.rawgit.com/bmabey/pyLDAvis/files/ldavis.v1.0.0.css\">\n",
       "\n",
       "\n",
       "<div id=\"ldavis_el867223631638435846643443689\"></div>\n",
       "<script type=\"text/javascript\">\n",
       "\n",
       "var ldavis_el867223631638435846643443689_data = {\"mdsDat\": {\"x\": [0.030703682615884655, 0.01671148575980162, 0.2124880518260347, -0.09660470435647003, -0.15272604384168814, -0.010572472003562674], \"y\": [-0.08137561679027663, -0.19816794230428358, 0.0701270183115329, 0.011510727836019552, 0.04141012738934171, 0.15649568555766616], \"topics\": [1, 2, 3, 4, 5, 6], \"cluster\": [1, 1, 1, 1, 1, 1], \"Freq\": [26.329311129298183, 20.37176666911851, 19.927189358898538, 16.68233007943056, 8.446344982146247, 8.24305778110797]}, \"tinfo\": {\"Category\": [\"Default\", \"Default\", \"Default\", \"Default\", \"Default\", \"Default\", \"Default\", \"Default\", \"Default\", \"Default\", \"Default\", \"Default\", \"Default\", \"Default\", \"Default\", \"Default\", \"Default\", \"Default\", \"Default\", \"Default\", \"Default\", \"Default\", \"Default\", \"Default\", \"Default\", \"Default\", \"Default\", \"Default\", \"Default\", \"Default\", \"Topic1\", \"Topic1\", \"Topic1\", \"Topic1\", \"Topic1\", \"Topic1\", \"Topic1\", \"Topic1\", \"Topic1\", \"Topic1\", \"Topic1\", \"Topic1\", \"Topic1\", \"Topic1\", \"Topic1\", \"Topic1\", \"Topic1\", \"Topic1\", \"Topic1\", \"Topic1\", \"Topic1\", \"Topic1\", \"Topic1\", \"Topic1\", \"Topic1\", \"Topic1\", \"Topic1\", \"Topic1\", \"Topic1\", \"Topic1\", \"Topic1\", \"Topic1\", \"Topic1\", \"Topic1\", \"Topic1\", \"Topic1\", \"Topic1\", \"Topic1\", \"Topic1\", \"Topic1\", \"Topic1\", \"Topic1\", \"Topic1\", \"Topic1\", \"Topic1\", \"Topic1\", \"Topic1\", \"Topic1\", \"Topic1\", \"Topic1\", \"Topic1\", \"Topic1\", \"Topic1\", \"Topic1\", \"Topic1\", \"Topic1\", \"Topic1\", \"Topic1\", \"Topic1\", \"Topic2\", \"Topic2\", \"Topic2\", \"Topic2\", \"Topic2\", \"Topic2\", \"Topic2\", \"Topic2\", \"Topic2\", \"Topic2\", \"Topic2\", \"Topic2\", \"Topic2\", \"Topic2\", \"Topic2\", \"Topic2\", \"Topic2\", \"Topic2\", \"Topic2\", \"Topic2\", \"Topic2\", \"Topic2\", \"Topic2\", \"Topic2\", \"Topic2\", \"Topic2\", \"Topic2\", \"Topic2\", \"Topic2\", \"Topic2\", \"Topic2\", \"Topic2\", \"Topic2\", \"Topic2\", \"Topic2\", \"Topic2\", \"Topic2\", \"Topic2\", \"Topic2\", \"Topic2\", \"Topic2\", \"Topic2\", \"Topic2\", \"Topic2\", \"Topic2\", \"Topic2\", \"Topic2\", \"Topic2\", \"Topic2\", \"Topic2\", \"Topic2\", \"Topic2\", \"Topic2\", \"Topic2\", \"Topic2\", \"Topic2\", \"Topic3\", \"Topic3\", \"Topic3\", \"Topic3\", \"Topic3\", \"Topic3\", \"Topic3\", \"Topic3\", \"Topic3\", \"Topic3\", \"Topic3\", \"Topic3\", \"Topic3\", \"Topic3\", \"Topic3\", \"Topic3\", \"Topic3\", \"Topic3\", \"Topic3\", \"Topic3\", \"Topic3\", \"Topic3\", \"Topic3\", \"Topic3\", \"Topic3\", \"Topic3\", \"Topic3\", \"Topic3\", \"Topic3\", \"Topic3\", \"Topic3\", \"Topic3\", \"Topic3\", \"Topic3\", \"Topic3\", \"Topic3\", \"Topic3\", \"Topic3\", \"Topic3\", \"Topic3\", \"Topic3\", \"Topic3\", \"Topic3\", \"Topic3\", \"Topic3\", \"Topic3\", \"Topic3\", \"Topic3\", \"Topic3\", \"Topic3\", \"Topic3\", \"Topic3\", \"Topic3\", \"Topic3\", \"Topic3\", \"Topic4\", \"Topic4\", \"Topic4\", \"Topic4\", \"Topic4\", \"Topic4\", \"Topic4\", \"Topic4\", \"Topic4\", \"Topic4\", \"Topic4\", \"Topic4\", \"Topic4\", \"Topic4\", \"Topic4\", \"Topic4\", \"Topic4\", \"Topic4\", \"Topic4\", \"Topic4\", \"Topic4\", \"Topic4\", \"Topic4\", \"Topic4\", \"Topic4\", \"Topic4\", \"Topic4\", \"Topic4\", \"Topic4\", \"Topic4\", \"Topic4\", \"Topic4\", \"Topic4\", \"Topic4\", \"Topic4\", \"Topic4\", \"Topic4\", \"Topic4\", \"Topic4\", \"Topic4\", \"Topic4\", \"Topic4\", \"Topic4\", \"Topic4\", \"Topic4\", \"Topic4\", \"Topic4\", \"Topic4\", \"Topic4\", \"Topic4\", \"Topic4\", \"Topic4\", \"Topic4\", \"Topic5\", \"Topic5\", \"Topic5\", \"Topic5\", \"Topic5\", \"Topic5\", \"Topic5\", \"Topic5\", \"Topic5\", \"Topic5\", \"Topic5\", \"Topic5\", \"Topic5\", \"Topic5\", \"Topic5\", \"Topic5\", \"Topic5\", \"Topic5\", \"Topic5\", \"Topic5\", \"Topic5\", \"Topic5\", \"Topic5\", \"Topic5\", \"Topic5\", \"Topic5\", \"Topic5\", \"Topic5\", \"Topic5\", \"Topic5\", \"Topic5\", \"Topic5\", \"Topic5\", \"Topic5\", \"Topic5\", \"Topic5\", \"Topic5\", \"Topic5\", \"Topic5\", \"Topic5\", \"Topic5\", \"Topic5\", \"Topic5\", \"Topic5\", \"Topic5\", \"Topic5\", \"Topic5\", \"Topic5\", \"Topic6\", \"Topic6\", \"Topic6\", \"Topic6\", \"Topic6\", \"Topic6\", \"Topic6\", \"Topic6\", \"Topic6\", \"Topic6\", \"Topic6\", \"Topic6\", \"Topic6\", \"Topic6\", \"Topic6\", \"Topic6\", \"Topic6\", \"Topic6\", \"Topic6\", \"Topic6\", \"Topic6\", \"Topic6\", \"Topic6\", \"Topic6\", \"Topic6\", \"Topic6\", \"Topic6\", \"Topic6\", \"Topic6\", \"Topic6\", \"Topic6\", \"Topic6\", \"Topic6\", \"Topic6\", \"Topic6\", \"Topic6\", \"Topic6\", \"Topic6\", \"Topic6\", \"Topic6\", \"Topic6\", \"Topic6\", \"Topic6\", \"Topic6\", \"Topic6\", \"Topic6\", \"Topic6\", \"Topic6\", \"Topic6\", \"Topic6\", \"Topic6\", \"Topic6\", \"Topic6\", \"Topic6\", \"Topic6\", \"Topic6\", \"Topic6\"], \"Freq\": [130.0, 58.0, 99.0, 54.0, 71.0, 49.0, 58.0, 32.0, 17.0, 20.0, 28.0, 51.0, 42.0, 26.0, 18.0, 29.0, 96.0, 21.0, 24.0, 36.0, 31.0, 33.0, 15.0, 22.0, 14.0, 28.0, 30.0, 21.0, 32.0, 39.0, 53.36856793100842, 18.84511643241718, 11.640620632032599, 11.377907327900864, 21.334353553870805, 9.7638477642654, 9.328559016128196, 8.966738957798901, 8.886497622965999, 8.27466710174025, 7.309650158861191, 7.1648729321608675, 64.22199817230862, 6.531319682457826, 12.907518916577994, 13.213938997027036, 11.893378424082748, 5.6729923368773, 5.072674023615781, 5.061719809505862, 5.030873667361116, 4.938731418458559, 4.936226370905053, 4.915337363827259, 5.648010627182728, 12.435985146810287, 9.371143515686784, 4.180468320163577, 4.158699852874317, 4.137411941821832, 8.531179945127276, 15.593362256853498, 20.888371947588713, 24.210216774646796, 12.50257516364841, 39.41834514326057, 18.155668733764735, 8.225999386197929, 35.030544340865475, 21.905268670034378, 33.519387672970446, 14.553619171128533, 48.915575394425666, 20.11356916695863, 14.621424811593801, 12.244780552652765, 18.51377881152432, 13.731829793549434, 15.216546794257289, 18.57562699427886, 21.68822995782489, 12.91342909202009, 16.951468174948523, 16.50194179373685, 15.6903404267838, 20.044026959860858, 15.20030474187221, 14.740460216127603, 12.968651110398923, 27.421942506750824, 25.78601312953659, 23.551137333405663, 22.179783071109373, 12.864792813263694, 11.126016305310747, 11.043761413223331, 10.038176189968192, 7.922337629891641, 7.9098732185582, 15.828594462401542, 15.174176553428017, 6.855021225799953, 6.095837718813663, 5.932516453392963, 5.414765201480571, 5.22659546120725, 5.162559274888153, 4.489246544557844, 4.468685875126014, 4.396302434218386, 4.369082325344831, 4.335070566493876, 4.325501061336496, 4.314478354007372, 4.303679104622302, 4.329764699904616, 4.238252420851111, 12.640162528314946, 7.927500310804575, 26.473783876862917, 8.295429005476525, 7.704212714803496, 95.22975841890292, 14.01127252309298, 13.686359510843316, 6.952211774589031, 19.73160992205757, 6.84429844979059, 8.202229406063791, 22.851057523890386, 9.793333006319692, 14.428418516181372, 7.433373235189942, 25.556693277662234, 10.515289924251745, 9.515171325134073, 8.130154585528787, 13.65144761584296, 11.511715465622133, 8.998091461005364, 9.058221582760238, 9.122696754799716, 9.069910405726537, 8.393568068621144, 8.498743301645886, 57.556634779707565, 13.842014824834273, 10.343555365902937, 6.887463115769443, 5.995941346536742, 5.307690914858697, 5.188179572437049, 5.175912025566827, 5.0910399714883, 5.066364562811105, 4.336034448056706, 4.325259848576355, 4.293185917943179, 4.27192113192831, 4.240977349988715, 8.743778026626028, 9.149273965552805, 40.4637114790986, 3.4861282120756414, 15.205690641301047, 3.4561370293209843, 3.4448016732182496, 3.4333790590287743, 3.434456605554318, 3.432966169529465, 3.4332305689934643, 3.4207296637962665, 3.379179626261501, 25.069347509917133, 3.296793953152208, 27.264535413714974, 29.07274537200105, 25.74867236073416, 17.177067769594156, 21.796564091872714, 68.93854440800267, 6.059556607135402, 8.361769936155818, 8.92308797338901, 16.12044091592808, 18.637743263403205, 18.385600449459975, 14.530479303850132, 10.639335971210606, 50.76575195649565, 19.79514778131631, 17.378654320501234, 23.649643886906915, 29.296641447963754, 10.535134976472902, 10.542508966846375, 13.297564694382904, 9.163750363233193, 9.190243342759915, 8.943149995153101, 11.71678477441551, 10.917660098693249, 9.983854215615638, 9.270518527946734, 9.013463382469723, 8.459777777994125, 7.449810670013393, 6.843847351054521, 6.651124021514681, 5.947281422770945, 5.8724266635027185, 5.871658447580044, 5.8314522140938, 5.840102732627164, 5.183451295400976, 5.160393207413528, 5.160381272448708, 5.075903815159344, 5.053725381089871, 14.142009082356573, 4.308080758253292, 4.277445074601255, 4.267188030775436, 4.24616779537749, 4.235338694623779, 4.242866556382845, 3.5225472086042786, 3.490684451003173, 3.4799311141925937, 26.896157340967896, 40.20739077811938, 11.516825202916843, 7.610419020942804, 19.565709910160177, 15.471963698526666, 16.785598922112253, 7.2187441333286575, 7.71701706520465, 7.676812655965132, 15.145347008670145, 9.734411860370413, 10.144039040195329, 10.23601274605437, 11.494023097197857, 13.302675689493416, 17.250902526940365, 8.307607527922992, 8.969962918795078, 8.148645088918446, 11.957119730194556, 8.323506881454954, 7.561558071060427, 7.859585128113288, 8.707867662498616, 7.163203282232376, 6.429319128314536, 6.010195534414968, 5.990418175105127, 5.709739820002045, 5.709725761826028, 5.619315158496246, 5.576981090997364, 5.559316993770816, 4.741238411881661, 4.720553134624782, 4.507323245720236, 3.9043930259056805, 12.069679910560788, 3.8084913451995286, 3.808491397808524, 3.80849223569931, 3.8084925723783987, 3.8084901310076207, 3.218104037289021, 12.798555754651195, 9.898761846346012, 3.0805240843676596, 2.500619076768574, 2.461891873051286, 2.4604084683728287, 2.440787599490584, 15.965216531473011, 2.3909606112800392, 4.117382316696847, 3.9949072404837875, 5.732734464881235, 4.454163572441419, 4.037490814509855, 6.351375498827986, 9.004196787437214, 10.182888626739969, 9.918683891516046, 5.744998355111156, 7.152361198065295, 5.943648787617154, 6.692802998577783, 5.376512569933214, 5.260267829233669, 5.085537376393254, 6.834258830373693, 4.985609950291976, 16.88291863595487, 10.801830393791269, 5.316871012449171, 4.313035204019661, 4.236924958136474, 4.215946830855031, 2.695804232474991, 2.651961857018155, 2.6093175583537196, 2.6093184270346668, 2.6181290632246164, 2.5993004254453766, 2.59958091120897, 2.57791748803687, 2.5670611376775723, 2.591077065433263, 4.236845354121181, 13.179068338298126, 8.95473753707799, 1.8765005689634975, 1.833744267500102, 1.8105969870735492, 1.8106821425156883, 1.8006000192385152, 1.779801967327309, 1.7686634084362176, 1.7686644952289172, 1.767754946807868, 1.8070459656631555, 3.4719550410043944, 3.4466989112202104, 6.406155896836439, 8.401502873085265, 11.84801229920687, 5.902616254296024, 11.147844195806748, 3.548420038949008, 4.895401397697261, 2.708397182397454, 4.461485353476994, 3.957752490625054, 6.015191727544208, 6.752072905153592, 4.268977356233062, 8.038209091433623, 7.862402444537387, 4.220997099034345, 5.4693700459323376, 3.3972591319045358, 3.3977762873064097, 5.8271382984551074, 4.220155368001456, 6.422469299202267, 5.782240462791749, 5.2264170279286235, 4.404667256410626, 4.156353453842789], \"Term\": [\"delivery\", \"complaint\", \"call\", \"freezer\", \"fridge\", \"manager\", \"staff\", \"product\", \"worse\", \"code\", \"driver\", \"hour\", \"delivered\", \"away\", \"contacted\", \"sent\", \"phone\", \"rude\", \"washing\", \"email\", \"machine\", \"response\", \"tracking\", \"old\", \"track\", \"sale\", \"hold\", \"laptop\", \"minute\", \"number\", \"freezer\", \"engineer\", \"kenwood\", \"partner\", \"phoned\", \"arrange\", \"informed\", \"december\", \"half\", \"office\", \"november\", \"turn\", \"fridge\", \"nobody\", \"purchased\", \"anyone\", \"enough\", \"wednesday\", \"arrival\", \"specific\", \"agreed\", \"kid\", \"touch\", \"stupid\", \"somebody\", \"came\", \"stopped\", \"properly\", \"run\", \"monday\", \"guarantee\", \"friday\", \"sort\", \"anything\", \"stock\", \"hour\", \"took\", \"waste\", \"waiting\", \"working\", \"contact\", \"damaged\", \"time\", \"faulty\", \"work\", \"replacement\", \"bought\", \"wasted\", \"broken\", \"take\", \"refund\", \"shop\", \"week\", \"called\", \"number\", \"delivery\", \"call\", \"phone\", \"later\", \"driver\", \"away\", \"washing\", \"old\", \"washer\", \"different\", \"look\", \"van\", \"point\", \"knew\", \"phoning\", \"deliver\", \"word\", \"slot\", \"isn\", \"stop\", \"ready\", \"installed\", \"story\", \"horrified\", \"live\", \"sure\", \"high\", \"disgusting\", \"street\", \"hoover\", \"wonder\", \"unhelpful\", \"ordered\", \"pathetic\", \"machine\", \"provided\", \"christmas\", \"delivery\", \"long\", \"rang\", \"message\", \"line\", \"samsung\", \"cancel\", \"delivered\", \"appliance\", \"tell\", \"door\", \"time\", \"made\", \"won\", \"tried\", \"contact\", \"take\", \"wasn\", \"trying\", \"min\", \"broken\", \"people\", \"staff\", \"complaint\", \"dealing\", \"gesture\", \"transferred\", \"unbelievable\", \"hoping\", \"unprofessional\", \"page\", \"derby\", \"side\", \"formal\", \"follow\", \"site\", \"raised\", \"large\", \"stress\", \"person\", \"manager\", \"click\", \"spent\", \"installing\", \"responded\", \"reading\", \"overall\", \"loss\", \"policy\", \"query\", \"dismal\", \"hold\", \"tall\", \"response\", \"email\", \"minute\", \"due\", \"sent\", \"call\", \"possibly\", \"centre\", \"second\", \"put\", \"experience\", \"left\", \"repair\", \"return\", \"phone\", \"wrong\", \"department\", \"refund\", \"time\", \"trying\", \"nothing\", \"called\", \"number\", \"waiting\", \"staff\", \"disgrace\", \"quite\", \"end\", \"standard\", \"unacceptable\", \"ive\", \"feel\", \"trading\", \"expect\", \"actually\", \"mistake\", \"beko\", \"correct\", \"beyond\", \"logged\", \"social\", \"medium\", \"attitude\", \"read\", \"twice\", \"elsewhere\", \"impressed\", \"frankly\", \"job\", \"horrible\", \"claim\", \"package\", \"general\", \"skill\", \"product\", \"staff\", \"lack\", \"care\", \"someone\", \"need\", \"sale\", \"wanted\", \"haven\", \"dont\", \"problem\", \"branch\", \"without\", \"wait\", \"give\", \"week\", \"phone\", \"oven\", \"happy\", \"sorry\", \"hour\", \"please\", \"absolute\", \"last\", \"website\", \"dissatisfied\", \"move\", \"dpd\", \"blackfriday\", \"cooking\", \"facility\", \"pocket\", \"advisor\", \"mother\", \"ringing\", \"across\", \"jan\", \"immediately\", \"track\", \"wallmount\", \"samsungtv\", \"nxt\", \"fixit\", \"wud\", \"asking\", \"tracking\", \"couldn\", \"mention\", \"serial\", \"setup\", \"record\", \"quick\", \"code\", \"desk\", \"small\", \"unless\", \"saying\", \"helpline\", \"option\", \"went\", \"another\", \"number\", \"delivered\", \"lost\", \"sale\", \"ring\", \"nothing\", \"something\", \"thing\", \"asked\", \"phone\", \"waited\", \"worse\", \"however\", \"weymouth\", \"exactly\", \"hand\", \"software\", \"term\", \"breach\", \"knot\", \"gothic\", \"advertise\", \"monthly\", \"leamington\", \"aftersales\", \"understand\", \"gaming\", \"finish\", \"contacted\", \"failed\", \"picked\", \"experiencing\", \"interest\", \"badly\", \"cwmbran\", \"white\", \"causeway\", \"cribbs\", \"rochester\", \"double\", \"served\", \"set\", \"exchange\", \"worth\", \"rude\", \"well\", \"laptop\", \"condition\", \"start\", \"dealt\", \"sell\", \"paying\", \"month\", \"sent\", \"doesn\", \"manager\", \"called\", \"advised\", \"repair\", \"insurance\", \"treat\", \"problem\", \"fault\", \"week\", \"take\", \"product\", \"ring\", \"issue\"], \"Total\": [130.0, 58.0, 99.0, 54.0, 71.0, 49.0, 58.0, 32.0, 17.0, 20.0, 28.0, 51.0, 42.0, 26.0, 18.0, 29.0, 96.0, 21.0, 24.0, 36.0, 31.0, 33.0, 15.0, 22.0, 14.0, 28.0, 30.0, 21.0, 32.0, 39.0, 54.11987660142451, 19.595749724727554, 12.389194577318301, 12.136923143126797, 22.828278443774103, 10.517904570083703, 10.077236015849392, 9.716111200842581, 9.636388293986546, 9.025749424077796, 8.05933495999497, 7.91437273415895, 71.48003767294387, 7.280758877264114, 14.454960871437704, 14.878542917636832, 13.430670472375375, 6.422479521203832, 5.82174742047372, 5.810324807832802, 5.780512943267061, 5.687318874881314, 5.685126408641725, 5.663900379208587, 6.517492371132849, 14.466661324789207, 10.955749845528658, 4.930367054001911, 4.908276381793407, 4.888311089310716, 10.09840361888472, 18.75730427302022, 25.314289355166135, 29.528431660038628, 15.045998120308393, 51.98062670127025, 23.026655079818543, 9.81390749096173, 51.31899554016784, 30.267930648147637, 55.05167277958678, 21.038341832323656, 108.80829754560652, 33.26188958540812, 21.983068212312528, 17.435613367930753, 34.076171828889315, 21.420756427584223, 25.757757469645508, 38.72058806993245, 54.60543261827943, 20.03991371394804, 47.41384344459943, 46.8132990824094, 39.99915604646365, 130.7475844934356, 99.19345653035522, 96.75916664394343, 23.27689660231, 28.165736786478778, 26.536803010536865, 24.293413087931153, 22.93630266682587, 13.608098086813618, 11.868512596520583, 11.788833322445987, 10.780969711223774, 8.666407839583167, 8.654267806720858, 17.39878504694722, 16.703965582267557, 7.598090153549092, 6.8386564567437755, 6.674587576961, 6.157020352758583, 5.968476165839647, 5.905273553738364, 5.231424624126653, 5.210228473058411, 5.142583385338945, 5.111193511517091, 5.078364357270707, 5.068129031865144, 5.056891584975534, 5.045712709962026, 5.0781068373465885, 4.980614657899328, 14.952856958464302, 9.452895416043162, 31.657596632119805, 9.936353489829711, 9.231763398788852, 130.7475844934356, 17.985159946651834, 17.658207558027573, 8.492893197782697, 27.15723908768642, 8.582601512004533, 10.899116346222899, 42.702489535098344, 14.187206623622984, 24.358773370032058, 9.946401535437788, 108.80829754560652, 19.75793275310762, 16.56335732237079, 12.409180811031181, 55.05167277958678, 38.72058806993245, 19.158758890761433, 22.53848331961624, 24.716998628336803, 25.757757469645508, 24.73673358838585, 58.09034998211519, 58.30872400447906, 14.588030702376944, 11.090776198966028, 7.634256113770933, 6.740954239822056, 6.052825359501884, 5.933784690579986, 5.9213509483835525, 5.836068219994422, 5.814267029895435, 5.082592350826673, 5.071147858443687, 5.0385840535233575, 5.017710444913321, 4.9861425787345555, 10.32731863038592, 10.983487723898055, 49.098672107602056, 4.231905545912625, 18.481099186604737, 4.201340110364022, 4.190273490151633, 4.178471685826389, 4.17994696058858, 4.178432612387449, 4.178925842483958, 4.167781543212953, 4.126077190887994, 30.69965389928482, 4.042061770932953, 33.79897302802199, 36.274553433124204, 32.35443173768563, 21.44884758612985, 29.191567679362553, 99.19345653035522, 7.602924578320485, 10.779242630550206, 11.737398291807999, 22.512483923276285, 26.554103278907792, 26.205409846575222, 20.594695783188126, 14.642575109659335, 96.75916664394343, 32.15705261504921, 28.741953993120116, 54.60543261827943, 108.80829754560652, 22.53848331961624, 27.15453584977174, 46.8132990824094, 39.99915604646365, 51.31899554016784, 58.09034998211519, 12.464951935518641, 11.664830134548081, 10.731409266734577, 10.017511843249942, 9.760542310075198, 9.207377838726401, 8.196846650724302, 7.590478322496552, 7.398784786918873, 6.695115677008413, 6.620484762538856, 6.622995283068928, 6.578963591857251, 6.589056770413671, 5.930865160156256, 5.907620809314103, 5.907627137199771, 5.82255847163338, 5.80056016431173, 16.4312638568269, 5.057312633797232, 5.024371238811531, 5.013788810012672, 4.993023722817925, 4.981946312468429, 4.992838752184722, 4.269830133259142, 4.237734335556229, 4.226538804204252, 32.72035168999034, 58.09034998211519, 15.530192101106302, 9.983485024118657, 31.607341578778794, 24.606114924347253, 28.55172045326285, 9.933177413323579, 10.85701319334098, 10.90732478676832, 29.80618389462295, 15.621552091339854, 17.373125216502686, 18.916588893279673, 24.797773707180884, 47.41384344459943, 96.75916664394343, 15.953562205792014, 19.818101727172582, 15.784230082012073, 51.98062670127025, 21.781563231943494, 13.34914832263775, 22.776592624333645, 9.464860863114438, 7.9196288214952135, 7.194691759888943, 6.767026076429073, 6.748331181585393, 6.465990619505638, 6.465987777017682, 6.375678998455276, 6.334126282984524, 6.339220815873835, 5.497740205605922, 5.478411148871841, 5.2635212015575314, 4.661541095489517, 14.429982551239487, 4.564670281703462, 4.564673023045139, 4.564674468119707, 4.564679970849423, 4.5646809122252705, 3.975090129139763, 15.975401619796381, 12.437325358016642, 3.9017694874782602, 3.257113305054177, 3.218574442184194, 3.2179624732389938, 3.198273632067499, 20.964624872000105, 3.147466149327829, 5.669695282390982, 5.645345367197172, 9.48892220326907, 7.13593748583069, 6.377421176241808, 15.12759082099731, 31.24028161462981, 39.99915604646365, 42.702489535098344, 14.26489280259632, 28.55172045326285, 17.089268007645217, 27.15453584977174, 13.474419146030014, 16.266162803182752, 14.710408052302792, 96.75916664394343, 14.1712017001276, 17.631183742920463, 11.54724339586921, 6.061798759929336, 5.057997675561307, 4.981671227601835, 4.9606291301163, 3.4406127476389847, 3.397026746451144, 3.3539465286251087, 3.3539496999739287, 3.3655890530551833, 3.343960935160852, 3.3443477340907504, 3.3225432048433516, 3.311726783384705, 3.3432781927815345, 5.785956444940977, 18.03549042278457, 12.412617074652427, 2.621955212083668, 2.578373165307294, 2.55669237163858, 2.5573261111484538, 2.545504209706186, 2.524445089713317, 2.5136089648748086, 2.5136161230356824, 2.513599929040618, 2.588130840357177, 5.014087199060926, 4.982253731907771, 9.878609381617537, 13.493663590914323, 21.263007651347138, 9.967731503480872, 21.77345273613878, 5.949098867976384, 9.137689992410117, 4.281622643214443, 8.335945796955697, 7.471488239868505, 16.048972972909638, 29.191567679362553, 10.817469052593387, 49.098672107602056, 46.8132990824094, 10.69130913252925, 20.594695783188126, 6.611747909254759, 6.652710928791043, 29.80618389462295, 12.399975075207987, 47.41384344459943, 38.72058806993245, 32.72035168999034, 17.089268007645217, 17.068404249473293], \"loglift\": [30.0, 29.0, 28.0, 27.0, 26.0, 25.0, 24.0, 23.0, 22.0, 21.0, 20.0, 19.0, 18.0, 17.0, 16.0, 15.0, 14.0, 13.0, 12.0, 11.0, 10.0, 9.0, 8.0, 7.0, 6.0, 5.0, 4.0, 3.0, 2.0, 1.0, 1.3205, 1.2954, 1.2722, 1.2699, 1.2668, 1.2601, 1.2573, 1.2542, 1.2535, 1.2476, 1.2369, 1.235, 1.2274, 1.2259, 1.2213, 1.2158, 1.2129, 1.2104, 1.1968, 1.1966, 1.1956, 1.1934, 1.1932, 1.1927, 1.1913, 1.1832, 1.1783, 1.1695, 1.1688, 1.1677, 1.1658, 1.1497, 1.1423, 1.1359, 1.1493, 1.0578, 1.0968, 1.158, 0.9526, 1.0111, 0.8383, 0.966, 0.535, 0.8315, 0.9267, 0.9811, 0.7244, 0.8898, 0.8081, 0.6, 0.4111, 0.895, 0.3059, 0.2918, 0.3987, -0.5409, -0.5413, -0.5471, 0.7496, 1.5643, 1.5623, 1.56, 1.5575, 1.5348, 1.5264, 1.5257, 1.5196, 1.5013, 1.5011, 1.4964, 1.495, 1.4881, 1.476, 1.4732, 1.4626, 1.4583, 1.4566, 1.438, 1.4375, 1.4342, 1.4341, 1.4328, 1.4326, 1.4322, 1.432, 1.4316, 1.4296, 1.423, 1.415, 1.4122, 1.4105, 1.4101, 1.274, 1.3413, 1.3362, 1.3909, 1.2716, 1.3647, 1.3067, 0.9658, 1.2204, 1.0673, 1.2998, 0.1423, 0.9603, 1.0367, 1.1682, 0.1966, 0.378, 0.8353, 0.6795, 0.5943, 0.5472, 0.5102, -0.3311, 1.6001, 1.5606, 1.5433, 1.5101, 1.496, 1.4817, 1.4788, 1.4785, 1.4765, 1.4754, 1.4542, 1.454, 1.453, 1.4522, 1.4512, 1.4466, 1.4304, 1.4197, 1.4192, 1.418, 1.4178, 1.4172, 1.4167, 1.4166, 1.4166, 1.4165, 1.4156, 1.4134, 1.4105, 1.4093, 1.3982, 1.3918, 1.3847, 1.391, 1.321, 1.2492, 1.3862, 1.3591, 1.3389, 1.2791, 1.2591, 1.2587, 1.2643, 1.2937, 0.9681, 1.1279, 1.11, 0.7763, 0.301, 0.8526, 0.667, 0.3545, 0.1395, -0.1068, -0.258, 1.7289, 1.7246, 1.7186, 1.7133, 1.7112, 1.7061, 1.6953, 1.6873, 1.6843, 1.6724, 1.6709, 1.6704, 1.6702, 1.6702, 1.6561, 1.6556, 1.6556, 1.6536, 1.653, 1.6408, 1.6305, 1.6299, 1.6296, 1.6288, 1.6285, 1.6281, 1.5984, 1.5969, 1.5964, 1.5948, 1.4229, 1.4918, 1.5194, 1.3112, 1.3269, 1.2596, 1.4716, 1.4494, 1.4396, 1.1138, 1.3178, 1.2528, 1.1767, 1.0219, 0.5199, 0.0665, 1.1383, 0.9981, 1.1297, 0.3213, 0.8288, 1.2224, 0.7268, 2.3881, 2.371, 2.359, 2.3528, 2.3523, 2.3471, 2.3471, 2.3452, 2.3441, 2.3402, 2.3234, 2.3225, 2.3163, 2.2942, 2.2928, 2.2903, 2.2903, 2.2903, 2.2903, 2.2903, 2.2602, 2.2497, 2.2431, 2.2351, 2.2071, 2.2034, 2.203, 2.2011, 2.199, 2.1965, 2.1515, 2.1256, 1.9675, 2.0001, 2.0143, 1.6036, 1.2274, 1.1033, 1.0116, 1.562, 1.0872, 1.4153, 1.0709, 1.5527, 1.3425, 1.4093, -0.1788, 1.4268, 2.4524, 2.4291, 2.3647, 2.3365, 2.3339, 2.3331, 2.2518, 2.2482, 2.2447, 2.2447, 2.2447, 2.2439, 2.2439, 2.2421, 2.2411, 2.2409, 2.1842, 2.1821, 2.1693, 2.1613, 2.155, 2.1507, 2.1505, 2.1496, 2.1463, 2.1443, 2.1443, 2.1438, 2.1366, 2.1283, 2.1273, 2.0627, 2.022, 1.911, 1.9718, 1.8264, 1.9791, 1.8717, 2.0378, 1.8707, 1.8604, 1.5144, 1.0318, 1.566, 0.6862, 0.7117, 1.5664, 1.1699, 1.8299, 1.8239, 0.8636, 1.418, 0.4967, 0.5942, 0.6615, 1.14, 1.0832], \"logprob\": [30.0, 29.0, 28.0, 27.0, 26.0, 25.0, 24.0, 23.0, 22.0, 21.0, 20.0, 19.0, 18.0, 17.0, 16.0, 15.0, 14.0, 13.0, 12.0, 11.0, 10.0, 9.0, 8.0, 7.0, 6.0, 5.0, 4.0, 3.0, 2.0, 1.0, -3.6481, -4.6891, -5.1708, -5.1937, -4.565, -5.3467, -5.3923, -5.4318, -5.4408, -5.5121, -5.6361, -5.6561, -3.463, -5.7487, -5.0675, -5.0441, -5.1494, -5.8896, -6.0015, -6.0036, -6.0097, -6.0282, -6.0287, -6.033, -5.894, -5.1047, -5.3877, -6.1949, -6.2001, -6.2053, -5.4816, -4.8785, -4.5861, -4.4386, -5.0994, -3.9511, -4.7264, -5.518, -4.0691, -4.5386, -4.1132, -4.9475, -3.7352, -4.6239, -4.9429, -5.1202, -4.7068, -5.0056, -4.903, -4.7035, -4.5486, -5.0671, -4.795, -4.8219, -4.8723, -4.6274, -4.904, -4.9347, -5.0628, -4.0575, -4.119, -4.2096, -4.2696, -4.8143, -4.9595, -4.9669, -5.0624, -5.2991, -5.3007, -4.607, -4.6492, -5.4438, -5.5612, -5.5884, -5.6797, -5.715, -5.7274, -5.8671, -5.8717, -5.888, -5.8943, -5.9021, -5.9043, -5.9068, -5.9093, -5.9033, -5.9247, -4.8319, -5.2985, -4.0927, -5.2531, -5.327, -2.8125, -4.7289, -4.7524, -5.4297, -4.3866, -5.4454, -5.2644, -4.2398, -5.0871, -4.6996, -5.3628, -4.1279, -5.016, -5.1159, -5.2732, -4.755, -4.9254, -5.1718, -5.1651, -5.158, -5.1638, -5.2413, -5.2289, -3.294, -4.719, -5.0104, -5.417, -5.5557, -5.6776, -5.7004, -5.7027, -5.7193, -5.7241, -5.8798, -5.8823, -5.8897, -5.8947, -5.9019, -5.1784, -5.1331, -3.6463, -6.0979, -4.6251, -6.1066, -6.1099, -6.1132, -6.1129, -6.1133, -6.1132, -6.1169, -6.1291, -4.1251, -6.1538, -4.0412, -3.9769, -4.0984, -4.5032, -4.265, -3.1135, -5.5451, -5.2231, -5.1581, -4.5667, -4.4216, -4.4352, -4.6705, -4.9822, -3.4195, -4.3613, -4.4915, -4.1834, -3.9693, -4.992, -4.9913, -4.7592, -5.1315, -5.1286, -5.1559, -4.708, -4.7786, -4.868, -4.9422, -4.9703, -5.0337, -5.1608, -5.2457, -5.2742, -5.3861, -5.3987, -5.3989, -5.4057, -5.4043, -5.5235, -5.528, -5.528, -5.5445, -5.5489, -4.5199, -5.7085, -5.7156, -5.7181, -5.723, -5.7255, -5.7238, -5.9098, -5.9189, -5.922, -3.877, -3.475, -4.7252, -5.1395, -4.1952, -4.43, -4.3485, -5.1923, -5.1256, -5.1308, -4.4513, -4.8933, -4.8521, -4.8431, -4.7272, -4.581, -4.3211, -5.0518, -4.9751, -5.0712, -4.6877, -5.0499, -5.1459, -5.1073, -4.3242, -4.5194, -4.6275, -4.6949, -4.6982, -4.7462, -4.7462, -4.7622, -4.7697, -4.7729, -4.9321, -4.9365, -4.9827, -5.1263, -3.9977, -5.1512, -5.1512, -5.1512, -5.1512, -5.1512, -5.3196, -3.9391, -4.196, -5.3633, -5.5719, -5.5875, -5.5881, -5.5961, -3.718, -5.6167, -5.0732, -5.1034, -4.7422, -4.9945, -5.0928, -4.6397, -4.2907, -4.1677, -4.194, -4.7401, -4.5209, -4.7061, -4.5874, -4.8063, -4.8282, -4.862, -4.5664, -4.8818, -3.6377, -4.0843, -4.7931, -5.0024, -5.0202, -5.0252, -5.4723, -5.4887, -5.5049, -5.5049, -5.5016, -5.5088, -5.5087, -5.517, -5.5213, -5.512, -5.0202, -3.8854, -4.2718, -5.8346, -5.8577, -5.8704, -5.8703, -5.8759, -5.8875, -5.8938, -5.8938, -5.8943, -5.8723, -5.2193, -5.2266, -4.6068, -4.3356, -3.9919, -4.6886, -4.0528, -5.1975, -4.8757, -5.4677, -4.9685, -5.0884, -4.6697, -4.5542, -5.0127, -4.3798, -4.4019, -5.024, -4.7649, -5.2411, -5.2409, -4.7015, -5.0242, -4.6042, -4.7092, -4.8103, -4.9814, -5.0394]}, \"token.table\": {\"Topic\": [2, 3, 4, 5, 4, 6, 2, 3, 4, 6, 5, 6, 1, 1, 2, 4, 5, 1, 3, 1, 4, 2, 3, 1, 1, 1, 2, 3, 5, 5, 4, 2, 6, 4, 4, 5, 1, 2, 4, 5, 1, 3, 4, 6, 1, 2, 4, 1, 2, 3, 4, 1, 2, 3, 5, 6, 1, 2, 2, 4, 4, 6, 6, 3, 4, 2, 5, 4, 3, 4, 5, 3, 3, 6, 1, 2, 3, 4, 5, 6, 1, 6, 5, 4, 1, 5, 6, 6, 1, 3, 6, 3, 4, 6, 1, 2, 6, 1, 2, 5, 1, 2, 3, 4, 1, 3, 3, 5, 2, 4, 2, 3, 5, 2, 4, 6, 1, 2, 4, 1, 2, 6, 5, 2, 2, 3, 4, 2, 3, 5, 6, 4, 1, 1, 6, 6, 1, 5, 6, 4, 1, 3, 4, 6, 5, 2, 6, 1, 4, 6, 1, 2, 3, 4, 4, 2, 6, 5, 3, 3, 4, 1, 1, 5, 1, 3, 5, 6, 4, 3, 1, 3, 4, 6, 1, 6, 1, 6, 1, 4, 5, 1, 4, 2, 5, 2, 1, 2, 3, 2, 3, 4, 2, 1, 4, 6, 5, 4, 1, 2, 3, 4, 6, 6, 2, 1, 3, 4, 5, 6, 4, 5, 4, 1, 1, 2, 6, 2, 4, 1, 4, 5, 6, 3, 1, 3, 4, 1, 2, 3, 6, 6, 1, 2, 3, 2, 3, 4, 2, 4, 1, 2, 4, 2, 3, 1, 3, 5, 6, 2, 4, 1, 2, 3, 3, 6, 4, 5, 2, 6, 1, 2, 3, 4, 2, 3, 6, 4, 1, 1, 2, 4, 5, 6, 6, 5, 5, 1, 2, 4, 1, 1, 3, 5, 1, 1, 2, 3, 5, 5, 1, 2, 4, 5, 6, 2, 5, 1, 2, 4, 3, 4, 3, 1, 2, 4, 1, 2, 6, 1, 2, 3, 4, 2, 3, 1, 2, 3, 4, 5, 1, 5, 2, 6, 6, 1, 2, 3, 4, 5, 2, 3, 3, 4, 2, 4, 6, 4, 6, 1, 2, 4, 1, 6, 2, 3, 3, 5, 4, 3, 1, 2, 4, 6, 4, 3, 2, 5, 1, 3, 4, 5, 6, 3, 6, 1, 4, 5, 3, 2, 3, 5, 3, 5, 6, 2, 3, 5, 6, 5, 6, 1, 3, 6, 1, 2, 4, 5, 2, 5, 5, 2, 5, 1, 3, 1, 2, 6, 3, 6, 5, 5, 6, 4, 6, 5, 1, 3, 4, 5, 3, 3, 4, 2, 4, 5, 4, 6, 1, 1, 2, 4, 5, 1, 2, 5, 2, 3, 4, 5, 1, 3, 4, 1, 3, 4, 5, 2, 3, 4, 4, 1, 2, 6, 1, 5, 6, 2, 1, 2, 2, 2, 3, 4, 1, 2, 1, 2, 4, 6, 3, 2, 3, 4, 5, 6, 6, 1, 2, 4, 5, 6, 1, 2, 3, 4, 5, 1, 2, 1, 2, 5, 4, 5, 4, 3, 4, 6, 2, 5, 1, 2, 3, 1, 3, 4, 4, 3, 6, 2, 4, 5, 3, 2, 1, 2, 3, 4, 6, 1, 2, 5, 1, 2, 3, 6, 5, 2, 4, 2, 2, 1, 2, 3, 6, 1, 4, 1, 2, 4, 5, 1, 1, 2, 3, 4, 6, 3, 6, 1, 5, 6, 6, 1, 2, 4, 1, 2, 4, 2, 2, 1, 2, 3, 1, 3, 4, 6, 1, 6, 1, 2, 3, 4, 6, 5], \"Freq\": [0.07491114607695085, 0.2996445843078034, 0.5992891686156068, 0.9126733762999223, 0.8961757032226495, 0.8913744229339847, 0.09353391503360536, 0.09353391503360536, 0.37413566013442145, 0.37413566013442145, 0.9472498229342075, 0.902922795895273, 0.8649751413192189, 0.3200995472242159, 0.22406968305695116, 0.12803981888968638, 0.28808959250179433, 0.8737414726673247, 0.06721088251287113, 0.8127759806654291, 0.16932832930529773, 0.7048603904414202, 0.2819441561765681, 0.9507597196159405, 0.8588486649929492, 0.06797907960435252, 0.13595815920870505, 0.47585355723046774, 0.33989539802176266, 0.7546998690691877, 0.858729031981257, 0.9797713759896504, 0.7820668593188658, 0.9059345120384492, 0.9106007443950602, 0.8891087053303767, 0.5575743688406941, 0.17607611647600865, 0.17607611647600865, 0.08803805823800433, 0.2560565030037884, 0.1280282515018942, 0.6401412575094709, 0.8831252221178666, 0.5823488328778972, 0.3494092997267383, 0.03882325552519315, 0.15121965222987965, 0.0705691710406105, 0.6956104002574464, 0.0705691710406105, 0.3631446689983004, 0.17089160894037664, 0.27769886452811204, 0.02136145111754708, 0.17089160894037664, 0.8294933938515251, 0.0691244494876271, 0.734004459248883, 0.18350111481222076, 0.8013233836353895, 0.20033084590884737, 0.7956687089949215, 0.7421671701986409, 0.18554179254966022, 0.8665733353878576, 0.1083216669234822, 0.8011474430752876, 0.7089005100545173, 0.1907975947302693, 0.7631903789210772, 0.994705354820398, 0.33618536931128695, 0.6723707386225739, 0.6176015783594361, 0.25430653226565014, 0.05449425691406789, 0.05449425691406789, 0.018164752304689297, 0.018164752304689297, 0.2217849310571963, 0.720801025935888, 0.9279320606961745, 0.9119977510479262, 0.16080627807254988, 0.8040313903627494, 0.795666443126013, 0.7856989559765252, 0.712983947097663, 0.1901290525593768, 0.0950645262796884, 0.9596908784760694, 0.23355631341888797, 0.7006689402566639, 0.9262965206923033, 0.8979903560100461, 0.05986602373400307, 0.2107605457663693, 0.5386102836251659, 0.23417838418485476, 0.15296649706751664, 0.726590861070704, 0.06118659882700665, 0.053538273973630826, 0.3827158029211598, 0.5914698772417923, 0.8567411845649705, 0.6354317743582782, 0.9268221194983439, 0.9626992596582928, 0.7892458883447059, 0.7270828589017151, 0.8838798077254346, 0.46221532741998433, 0.09244306548399688, 0.3697722619359875, 0.18336301880605962, 0.09168150940302981, 0.7334520752242385, 0.20107774584348415, 0.7037721104521945, 0.7727584590445158, 0.8866524130739232, 0.9586115287763961, 0.18649020577621367, 0.7925833745489081, 0.790933899017558, 0.02756753441068822, 0.7994584979099584, 0.08270260323206466, 0.08270260323206466, 0.9318440618044628, 0.9695980131867173, 0.893477360246607, 0.07445644668721725, 0.7908267770320997, 0.2024576458829995, 0.10122882294149975, 0.6073729376489986, 0.9461013127961326, 0.037658963268185776, 0.7155203020955297, 0.22595377960911464, 0.7756829100265776, 0.9279324686208098, 0.24168956328526753, 0.7250686898558025, 0.24193597017772073, 0.4032266169628679, 0.3225812935702943, 0.6012887496558204, 0.09019331244837304, 0.09019331244837304, 0.21045106237953712, 0.8539869413540213, 0.17283227233318743, 0.6913290893327497, 0.8762936340651404, 0.7887760545849244, 0.7869999645652103, 0.7977998578663489, 0.9793074805090182, 0.853001037202013, 0.15993769447537745, 0.895354872262817, 0.02797983975821303, 0.05595967951642606, 0.8973228750384261, 0.7079254531905977, 0.901650147888863, 0.403262007230279, 0.1209786021690837, 0.4435882079533069, 0.8944677971835177, 0.891229974524822, 0.09902555272498022, 0.9339598743251478, 0.8029433933410317, 0.35321243660800805, 0.4541302756388675, 0.15137675854628915, 0.27631908947481193, 0.7368509052661651, 0.2802715135847608, 0.5605430271695216, 0.7876551815887708, 0.03257365712592923, 0.13029462850371692, 0.8143414281482307, 0.7927522294526562, 0.8260605094364517, 0.8028990577415719, 0.7677206519221977, 0.7502795267192682, 0.23085523899054405, 0.9526083085712929, 0.8580853237291802, 0.7961195162294902, 0.8931020357015431, 0.846700826727108, 0.7140578770567726, 0.4537378074866959, 0.4537378074866959, 0.7822607139544925, 0.8989319461041299, 0.05858778509015326, 0.11717557018030653, 0.41011449563107283, 0.1757633552704598, 0.23435114036061305, 0.8688684379120244, 0.9499344276452135, 0.8011177639153115, 0.9685859661909884, 0.8791488766496045, 0.9243994037008241, 0.8944686429541252, 0.1931721114889682, 0.7726884459558728, 0.045927488493372325, 0.22963744246686163, 0.1837099539734893, 0.5052023734270956, 0.8022233493802676, 0.4390472343662318, 0.1756188937464927, 0.3512377874929854, 0.5584936953627178, 0.08592210697887964, 0.17184421395775928, 0.17184421395775928, 0.8970359061108906, 0.0763201190788237, 0.19080029769705925, 0.6868810717094133, 0.7364518880370412, 0.11046778320555618, 0.14729037760740826, 0.7778191815817027, 0.8430473236164872, 0.11120279196473454, 0.7784195437531418, 0.11120279196473454, 0.9330863961793365, 0.7179725696918389, 0.35051087093272526, 0.1402043483730901, 0.4206130451192703, 0.1402043483730901, 0.8212878666102023, 0.15793997434811582, 0.10122516484855586, 0.5567384066670572, 0.3542880769699455, 0.8146859840188369, 0.16293719680376736, 0.846363503294829, 0.7688819161736077, 0.8242185362495247, 0.11774550517850353, 0.323663893027384, 0.364121879655807, 0.242747919770538, 0.040457986628423, 0.12363066773757922, 0.8035993402942649, 0.06181533386878961, 0.9062780468811306, 0.8182785274748188, 0.31154641536501465, 0.06230928307300293, 0.1869278492190088, 0.06230928307300293, 0.3738556984380176, 0.8971396670504745, 0.9464885629122741, 0.8339481662648208, 0.16256121749809763, 0.16256121749809763, 0.6096045656178661, 0.9614382398872114, 0.3314363408673639, 0.40508886106011144, 0.25778382067461636, 0.8685580180928935, 0.40000843971343164, 0.12500263741044737, 0.2250047473388053, 0.25000527482089474, 0.8762946904399277, 0.8863529912162832, 0.9591781343128114, 0.1568031924448334, 0.6272127697793336, 0.1568031924448334, 0.8693990744451777, 0.13375370376079657, 0.06268192564773686, 0.4387734795341581, 0.5014554051818949, 0.7177124562311595, 0.9368054173496635, 0.8444019014554325, 0.9063252580806987, 0.8463015454950075, 0.10578769318687593, 0.2676842866897424, 0.1338421433448712, 0.5353685733794848, 0.44468280182168485, 0.32340567405213444, 0.16170283702606722, 0.040425709256516805, 0.09104576115874227, 0.8194118504286804, 0.15502407182977648, 0.0723445668538957, 0.52708184422124, 0.1756939480737467, 0.0723445668538957, 0.9199116811073975, 0.04380531814797131, 0.9196044411622494, 0.057475277572640586, 0.7627895361380334, 0.32137270982159044, 0.09182077423474012, 0.18364154846948025, 0.3672830969389605, 0.9410762369707921, 0.9231044912819127, 0.7178878288533584, 0.7891700013845755, 0.1315283335640959, 0.26840067914373983, 0.5032512733945121, 0.20130050935780486, 0.825174504718411, 0.15281009346637242, 0.8112986226356627, 0.8051243354202673, 0.10064054192753341, 0.8993452224203086, 0.06918040172463913, 0.2665187911048959, 0.7107167762797224, 0.7198074008666234, 0.6253373632409043, 0.9430055880043179, 0.7971763305024864, 0.11326177888824185, 0.7928324522176929, 0.056630889444120924, 0.056630889444120924, 0.8619857148905684, 0.7179658558357997, 0.837734768652896, 0.6215112875405687, 0.40289031594697766, 0.4395167083057938, 0.10987917707644845, 0.018313196179408076, 0.03662639235881615, 0.728342878084405, 0.24278095936146835, 0.6882465071215417, 0.057353875593461806, 0.17206162678038542, 0.7159437223013907, 0.08876009331741427, 0.7988408398567285, 0.08876009331741427, 0.7512339815654133, 0.13658799664825697, 0.06829399832412848, 0.23406502830961057, 0.17554877123220794, 0.3510975424644159, 0.23406502830961057, 0.9094645823572406, 0.7956715692474391, 0.3292102469594187, 0.09406007055983391, 0.5643604233590034, 0.8149500331394262, 0.14009663643729342, 0.595410704858497, 0.24516911376526349, 0.815603519539974, 0.11651478850571058, 0.8762949678554544, 0.3161581405911893, 0.6323162811823786, 0.17039551272583808, 0.7667798072662714, 0.2399247846273669, 0.11996239231368346, 0.4798495692547338, 0.7536422929267088, 0.23979527502213463, 0.921060988374213, 0.19943809517059996, 0.5983142855117999, 0.20071237913792214, 0.6021371374137664, 0.6213931154697037, 0.6487053879354696, 0.19960165782629835, 0.09980082891314918, 0.04990041445657459, 0.8599536234389155, 0.7938738259616606, 0.7098006522537588, 0.8773653184586053, 0.17637632186438906, 0.7055052874575563, 0.8463644098681612, 0.8063493349494203, 0.9205994665333379, 0.28474397245868377, 0.03163821916207598, 0.6327643832415195, 0.06327643832415196, 0.2968588075411418, 0.22264410565585635, 0.37107350942642725, 0.25341749196614, 0.12670874598307, 0.50683498393228, 0.12670874598307, 0.829570986780015, 0.039503380322857856, 0.11851014096857357, 0.860537089640769, 0.8116400355056874, 0.10821867140075832, 0.05410933570037916, 0.13771650545164615, 0.15493106863310194, 0.6885825272582308, 0.8984266892646035, 0.10943684901004662, 0.21887369802009324, 0.5471842450502331, 0.8640171224302627, 0.06646285557155868, 0.06646285557155868, 0.8120811226098686, 0.8214864456469081, 0.09127627173854536, 0.7646100799297609, 0.7909997540553072, 0.8714749996692686, 0.09683055551880762, 0.8827838883526844, 0.782596078780185, 0.49069502678225074, 0.3099126484940531, 0.07747816212351327, 0.15495632424702654, 0.7421954858714508, 0.5747415843699183, 0.12315891093641107, 0.041052970312137026, 0.12315891093641107, 0.08210594062427405, 0.8719377099496763, 0.12295462821807403, 0.24590925643614805, 0.18443194232711102, 0.30738657054518503, 0.12295462821807403, 0.45033330274708017, 0.23895236472294049, 0.2665237914217413, 0.027571426698800826, 0.018380951132533883, 0.781702767406105, 0.17371172609024554, 0.8794879199870924, 0.1386003061956722, 0.8316018371740332, 0.18778870612444967, 0.8137510598726153, 0.9222080220232629, 0.9169197228493763, 0.45094398841483585, 0.45094398841483585, 0.6446839740531763, 0.3223419870265882, 0.0887371156096964, 0.39931702024363375, 0.48805413585333013, 0.8844668093262202, 0.12171918225079414, 0.852034275755559, 0.9220799125792285, 0.8900816986050902, 0.9058718294792094, 0.8031137268682172, 0.17713708107401138, 0.7085483242960455, 0.8426325289385053, 0.9275603464119997, 0.1585909603959191, 0.1585909603959191, 0.05286365346530637, 0.5286365346530637, 0.10572730693061275, 0.3528282290947125, 0.2116969374568275, 0.3528282290947125, 0.6820086720638401, 0.0974298102948343, 0.17537365853070172, 0.038971924117933716, 0.876295494119953, 0.20134544232718105, 0.7047090481451337, 0.9553135138404925, 0.9879221134194224, 0.3131726869266707, 0.4697590303900061, 0.05219544782111179, 0.10439089564222358, 0.8151696974286464, 0.1018962121785808, 0.6535716909591359, 0.2801021532682011, 0.04668369221136685, 0.9508856104873078, 0.9342186269634625, 0.3585450738635775, 0.12654532018714498, 0.10545443348928749, 0.2741815270721475, 0.12654532018714498, 0.30097118877573675, 0.6019423775514735, 0.5288350335927837, 0.3966262751945878, 0.8248376757492831, 0.7922533186202619, 0.17268050293854487, 0.2302406705847265, 0.5756016764618163, 0.36224540008542133, 0.6037423334757022, 0.06037423334757022, 0.7876951249986066, 0.9212841462180175, 0.682343331473567, 0.22744777715785566, 0.09097911086314225, 0.7268418926863893, 0.06607653569876266, 0.198229607096288, 0.9642007166323189, 0.2964354323086368, 0.5928708646172736, 0.06219475472276393, 0.06219475472276393, 0.6219475472276393, 0.12438950944552786, 0.0932921320841459, 0.8762934533467773], \"Term\": [\"absolute\", \"absolute\", \"absolute\", \"across\", \"actually\", \"advertise\", \"advised\", \"advised\", \"advised\", \"advised\", \"advisor\", \"aftersales\", \"agreed\", \"another\", \"another\", \"another\", \"another\", \"anyone\", \"anyone\", \"anything\", \"anything\", \"appliance\", \"appliance\", \"arrange\", \"arrival\", \"asked\", \"asked\", \"asked\", \"asked\", \"asking\", \"attitude\", \"away\", \"badly\", \"beko\", \"beyond\", \"blackfriday\", \"bought\", \"bought\", \"bought\", \"bought\", \"branch\", \"branch\", \"branch\", \"breach\", \"broken\", \"broken\", \"broken\", \"call\", \"call\", \"call\", \"call\", \"called\", \"called\", \"called\", \"called\", \"called\", \"came\", \"came\", \"cancel\", \"cancel\", \"care\", \"care\", \"causeway\", \"centre\", \"centre\", \"christmas\", \"christmas\", \"claim\", \"click\", \"code\", \"code\", \"complaint\", \"condition\", \"condition\", \"contact\", \"contact\", \"contact\", \"contact\", \"contact\", \"contact\", \"contacted\", \"contacted\", \"cooking\", \"correct\", \"couldn\", \"couldn\", \"cribbs\", \"cwmbran\", \"damaged\", \"damaged\", \"damaged\", \"dealing\", \"dealt\", \"dealt\", \"december\", \"deliver\", \"deliver\", \"delivered\", \"delivered\", \"delivered\", \"delivery\", \"delivery\", \"delivery\", \"delivery\", \"department\", \"department\", \"derby\", \"desk\", \"different\", \"disgrace\", \"disgusting\", \"dismal\", \"dissatisfied\", \"doesn\", \"doesn\", \"doesn\", \"dont\", \"dont\", \"dont\", \"door\", \"door\", \"double\", \"dpd\", \"driver\", \"due\", \"due\", \"elsewhere\", \"email\", \"email\", \"email\", \"email\", \"end\", \"engineer\", \"enough\", \"enough\", \"exactly\", \"exchange\", \"exchange\", \"exchange\", \"expect\", \"experience\", \"experience\", \"experience\", \"experiencing\", \"facility\", \"failed\", \"failed\", \"fault\", \"fault\", \"fault\", \"faulty\", \"faulty\", \"faulty\", \"faulty\", \"feel\", \"finish\", \"finish\", \"fixit\", \"follow\", \"formal\", \"frankly\", \"freezer\", \"friday\", \"friday\", \"fridge\", \"fridge\", \"fridge\", \"gaming\", \"general\", \"gesture\", \"give\", \"give\", \"give\", \"gothic\", \"guarantee\", \"guarantee\", \"half\", \"hand\", \"happy\", \"happy\", \"happy\", \"haven\", \"haven\", \"helpline\", \"helpline\", \"high\", \"hold\", \"hold\", \"hold\", \"hoover\", \"hoping\", \"horrible\", \"horrified\", \"hour\", \"hour\", \"however\", \"immediately\", \"impressed\", \"informed\", \"installed\", \"installing\", \"insurance\", \"insurance\", \"interest\", \"isn\", \"issue\", \"issue\", \"issue\", \"issue\", \"issue\", \"ive\", \"jan\", \"job\", \"kenwood\", \"kid\", \"knew\", \"knot\", \"lack\", \"lack\", \"laptop\", \"laptop\", \"laptop\", \"laptop\", \"large\", \"last\", \"last\", \"last\", \"later\", \"later\", \"later\", \"later\", \"leamington\", \"left\", \"left\", \"left\", \"line\", \"line\", \"line\", \"live\", \"logged\", \"long\", \"long\", \"long\", \"look\", \"loss\", \"lost\", \"lost\", \"lost\", \"lost\", \"machine\", \"machine\", \"made\", \"made\", \"made\", \"manager\", \"manager\", \"medium\", \"mention\", \"message\", \"message\", \"min\", \"min\", \"min\", \"min\", \"minute\", \"minute\", \"minute\", \"mistake\", \"monday\", \"month\", \"month\", \"month\", \"month\", \"month\", \"monthly\", \"mother\", \"move\", \"need\", \"need\", \"need\", \"nobody\", \"nothing\", \"nothing\", \"nothing\", \"november\", \"number\", \"number\", \"number\", \"number\", \"nxt\", \"office\", \"old\", \"option\", \"option\", \"option\", \"ordered\", \"ordered\", \"oven\", \"oven\", \"oven\", \"overall\", \"package\", \"page\", \"partner\", \"pathetic\", \"pathetic\", \"paying\", \"paying\", \"paying\", \"people\", \"people\", \"people\", \"people\", \"person\", \"person\", \"phone\", \"phone\", \"phone\", \"phone\", \"phone\", \"phoned\", \"phoned\", \"phoning\", \"phoning\", \"picked\", \"please\", \"please\", \"please\", \"please\", \"pocket\", \"point\", \"policy\", \"possibly\", \"possibly\", \"problem\", \"problem\", \"problem\", \"product\", \"product\", \"properly\", \"provided\", \"provided\", \"purchased\", \"purchased\", \"put\", \"put\", \"query\", \"quick\", \"quite\", \"raised\", \"rang\", \"rang\", \"rang\", \"rang\", \"read\", \"reading\", \"ready\", \"record\", \"refund\", \"refund\", \"refund\", \"refund\", \"refund\", \"repair\", \"repair\", \"replacement\", \"replacement\", \"replacement\", \"responded\", \"response\", \"response\", \"response\", \"return\", \"return\", \"return\", \"ring\", \"ring\", \"ring\", \"ring\", \"ringing\", \"rochester\", \"rude\", \"rude\", \"rude\", \"run\", \"sale\", \"sale\", \"sale\", \"samsung\", \"samsung\", \"samsungtv\", \"saying\", \"saying\", \"second\", \"second\", \"sell\", \"sell\", \"sell\", \"sent\", \"sent\", \"serial\", \"served\", \"served\", \"set\", \"set\", \"setup\", \"shop\", \"shop\", \"shop\", \"shop\", \"side\", \"site\", \"skill\", \"slot\", \"small\", \"small\", \"social\", \"software\", \"somebody\", \"someone\", \"someone\", \"someone\", \"someone\", \"something\", \"something\", \"something\", \"sorry\", \"sorry\", \"sorry\", \"sorry\", \"sort\", \"sort\", \"sort\", \"specific\", \"spent\", \"spent\", \"spent\", \"staff\", \"staff\", \"staff\", \"standard\", \"start\", \"start\", \"start\", \"stock\", \"stock\", \"stock\", \"stop\", \"stopped\", \"stopped\", \"story\", \"street\", \"stress\", \"stress\", \"stupid\", \"sure\", \"take\", \"take\", \"take\", \"take\", \"tall\", \"tell\", \"tell\", \"tell\", \"tell\", \"tell\", \"term\", \"thing\", \"thing\", \"thing\", \"thing\", \"thing\", \"time\", \"time\", \"time\", \"time\", \"time\", \"took\", \"took\", \"touch\", \"track\", \"track\", \"tracking\", \"tracking\", \"trading\", \"transferred\", \"treat\", \"treat\", \"tried\", \"tried\", \"trying\", \"trying\", \"trying\", \"turn\", \"twice\", \"twice\", \"unacceptable\", \"unbelievable\", \"understand\", \"unhelpful\", \"unless\", \"unless\", \"unprofessional\", \"van\", \"wait\", \"wait\", \"wait\", \"wait\", \"wait\", \"waited\", \"waited\", \"waited\", \"waiting\", \"waiting\", \"waiting\", \"waiting\", \"wallmount\", \"wanted\", \"wanted\", \"washer\", \"washing\", \"wasn\", \"wasn\", \"wasn\", \"wasn\", \"waste\", \"waste\", \"wasted\", \"wasted\", \"wasted\", \"website\", \"wednesday\", \"week\", \"week\", \"week\", \"week\", \"week\", \"well\", \"well\", \"went\", \"went\", \"weymouth\", \"white\", \"without\", \"without\", \"without\", \"won\", \"won\", \"won\", \"wonder\", \"word\", \"work\", \"work\", \"work\", \"working\", \"working\", \"working\", \"worse\", \"worth\", \"worth\", \"wrong\", \"wrong\", \"wrong\", \"wrong\", \"wrong\", \"wud\"]}, \"R\": 30, \"lambda.step\": 0.01, \"plot.opts\": {\"xlab\": \"PC1\", \"ylab\": \"PC2\"}, \"topic.order\": [1, 6, 4, 5, 2, 3]};\n",
       "\n",
       "function LDAvis_load_lib(url, callback){\n",
       "  var s = document.createElement('script');\n",
       "  s.src = url;\n",
       "  s.async = true;\n",
       "  s.onreadystatechange = s.onload = callback;\n",
       "  s.onerror = function(){console.warn(\"failed to load library \" + url);};\n",
       "  document.getElementsByTagName(\"head\")[0].appendChild(s);\n",
       "}\n",
       "\n",
       "if(typeof(LDAvis) !== \"undefined\"){\n",
       "   // already loaded: just create the visualization\n",
       "   !function(LDAvis){\n",
       "       new LDAvis(\"#\" + \"ldavis_el867223631638435846643443689\", ldavis_el867223631638435846643443689_data);\n",
       "   }(LDAvis);\n",
       "}else if(typeof define === \"function\" && define.amd){\n",
       "   // require.js is available: use it to load d3/LDAvis\n",
       "   require.config({paths: {d3: \"https://cdnjs.cloudflare.com/ajax/libs/d3/3.5.5/d3.min\"}});\n",
       "   require([\"d3\"], function(d3){\n",
       "      window.d3 = d3;\n",
       "      LDAvis_load_lib(\"https://cdn.rawgit.com/bmabey/pyLDAvis/files/ldavis.v1.0.0.js\", function(){\n",
       "        new LDAvis(\"#\" + \"ldavis_el867223631638435846643443689\", ldavis_el867223631638435846643443689_data);\n",
       "      });\n",
       "    });\n",
       "}else{\n",
       "    // require.js not available: dynamically load d3 & LDAvis\n",
       "    LDAvis_load_lib(\"https://cdnjs.cloudflare.com/ajax/libs/d3/3.5.5/d3.min.js\", function(){\n",
       "         LDAvis_load_lib(\"https://cdn.rawgit.com/bmabey/pyLDAvis/files/ldavis.v1.0.0.js\", function(){\n",
       "                 new LDAvis(\"#\" + \"ldavis_el867223631638435846643443689\", ldavis_el867223631638435846643443689_data);\n",
       "            })\n",
       "         });\n",
       "}\n",
       "</script>"
      ],
      "text/plain": [
       "PreparedData(topic_coordinates=              x         y  topics  cluster       Freq\n",
       "topic                                                \n",
       "0      0.030704 -0.081376       1        1  26.329311\n",
       "5      0.016711 -0.198168       2        1  20.371767\n",
       "3      0.212488  0.070127       3        1  19.927189\n",
       "4     -0.096605  0.011511       4        1  16.682330\n",
       "1     -0.152726  0.041410       5        1   8.446345\n",
       "2     -0.010572  0.156496       6        1   8.243058, topic_info=    Category        Freq       Term       Total  loglift  logprob\n",
       "231  Default  130.000000   delivery  130.000000  30.0000  30.0000\n",
       "171  Default   58.000000  complaint   58.000000  29.0000  29.0000\n",
       "118  Default   99.000000       call   99.000000  28.0000  28.0000\n",
       "358  Default   54.000000    freezer   54.000000  27.0000  27.0000\n",
       "360  Default   71.000000     fridge   71.000000  26.0000  26.0000\n",
       "524  Default   49.000000    manager   49.000000  25.0000  25.0000\n",
       "826  Default   58.000000      staff   58.000000  24.0000  24.0000\n",
       "649  Default   32.000000    product   32.000000  23.0000  23.0000\n",
       "986  Default   17.000000      worse   17.000000  22.0000  22.0000\n",
       "157  Default   20.000000       code   20.000000  21.0000  21.0000\n",
       "271  Default   28.000000     driver   28.000000  20.0000  20.0000\n",
       "422  Default   51.000000       hour   51.000000  19.0000  19.0000\n",
       "230  Default   42.000000  delivered   42.000000  18.0000  18.0000\n",
       "74   Default   26.000000       away   26.000000  17.0000  17.0000\n",
       "185  Default   18.000000  contacted   18.000000  16.0000  16.0000\n",
       "765  Default   29.000000       sent   29.000000  15.0000  15.0000\n",
       "616  Default   96.000000      phone   96.000000  14.0000  14.0000\n",
       "746  Default   21.000000       rude   21.000000  13.0000  13.0000\n",
       "953  Default   24.000000    washing   24.000000  12.0000  12.0000\n",
       "287  Default   36.000000      email   36.000000  11.0000  11.0000\n",
       "518  Default   31.000000    machine   31.000000  10.0000  10.0000\n",
       "728  Default   33.000000   response   33.000000   9.0000   9.0000\n",
       "892  Default   15.000000   tracking   15.000000   8.0000   8.0000\n",
       "583  Default   22.000000        old   22.000000   7.0000   7.0000\n",
       "890  Default   14.000000      track   14.000000   6.0000   6.0000\n",
       "749  Default   28.000000       sale   28.000000   5.0000   5.0000\n",
       "412  Default   30.000000       hold   30.000000   4.0000   4.0000\n",
       "483  Default   21.000000     laptop   21.000000   3.0000   3.0000\n",
       "544  Default   32.000000     minute   32.000000   2.0000   2.0000\n",
       "571  Default   39.000000     number   39.000000   1.0000   1.0000\n",
       "..       ...         ...        ...         ...      ...      ...\n",
       "742   Topic6    1.767755  rochester    2.513600   2.1438  -5.8943\n",
       "267   Topic6    1.807046     double    2.588131   2.1366  -5.8723\n",
       "770   Topic6    3.471955     served    5.014087   2.1283  -5.2193\n",
       "771   Topic6    3.446699        set    4.982254   2.1273  -5.2266\n",
       "304   Topic6    6.406156   exchange    9.878609   2.0627  -4.6068\n",
       "987   Topic6    8.401503      worth   13.493664   2.0220  -4.3356\n",
       "746   Topic6   11.848012       rude   21.263008   1.9110  -3.9919\n",
       "964   Topic6    5.902616       well    9.967732   1.9718  -4.6886\n",
       "483   Topic6   11.147844     laptop   21.773453   1.8264  -4.0528\n",
       "176   Topic6    3.548420  condition    5.949099   1.9791  -5.1975\n",
       "830   Topic6    4.895401      start    9.137690   1.8717  -4.8757\n",
       "221   Topic6    2.708397      dealt    4.281623   2.0378  -5.4677\n",
       "760   Topic6    4.461485       sell    8.335946   1.8707  -4.9685\n",
       "610   Topic6    3.957752     paying    7.471488   1.8604  -5.0884\n",
       "551   Topic6    6.015192      month   16.048973   1.5144  -4.6697\n",
       "765   Topic6    6.752073       sent   29.191568   1.0318  -4.5542\n",
       "261   Topic6    4.268977      doesn   10.817469   1.5660  -5.0127\n",
       "524   Topic6    8.038209    manager   49.098672   0.6862  -4.3798\n",
       "119   Topic6    7.862402     called   46.813299   0.7117  -4.4019\n",
       "20    Topic6    4.220997    advised   10.691309   1.5664  -5.0240\n",
       "710   Topic6    5.469370     repair   20.594696   1.1699  -4.7649\n",
       "450   Topic6    3.397259  insurance    6.611748   1.8299  -5.2411\n",
       "898   Topic6    3.397776      treat    6.652711   1.8239  -5.2409\n",
       "644   Topic6    5.827138    problem   29.806184   0.8636  -4.7015\n",
       "324   Topic6    4.220155      fault   12.399975   1.4180  -5.0242\n",
       "962   Topic6    6.422469       week   47.413843   0.4967  -4.6042\n",
       "860   Topic6    5.782240       take   38.720588   0.5942  -4.7092\n",
       "649   Topic6    5.226417    product   32.720352   0.6615  -4.8103\n",
       "738   Topic6    4.404667       ring   17.089268   1.1400  -4.9814\n",
       "460   Topic6    4.156353      issue   17.068404   1.0832  -5.0394\n",
       "\n",
       "[358 rows x 6 columns], token_table=      Topic      Freq        Term\n",
       "term                             \n",
       "2         2  0.074911    absolute\n",
       "2         3  0.299645    absolute\n",
       "2         4  0.599289    absolute\n",
       "10        5  0.912673      across\n",
       "13        4  0.896176    actually\n",
       "16        6  0.891374   advertise\n",
       "20        2  0.093534     advised\n",
       "20        3  0.093534     advised\n",
       "20        4  0.374136     advised\n",
       "20        6  0.374136     advised\n",
       "21        5  0.947250     advisor\n",
       "23        6  0.902923  aftersales\n",
       "28        1  0.864975      agreed\n",
       "40        1  0.320100     another\n",
       "40        2  0.224070     another\n",
       "40        4  0.128040     another\n",
       "40        5  0.288090     another\n",
       "44        1  0.873741      anyone\n",
       "44        3  0.067211      anyone\n",
       "45        1  0.812776    anything\n",
       "45        4  0.169328    anything\n",
       "53        2  0.704860   appliance\n",
       "53        3  0.281944   appliance\n",
       "56        1  0.950760     arrange\n",
       "58        1  0.858849     arrival\n",
       "64        1  0.067979       asked\n",
       "64        2  0.135958       asked\n",
       "64        3  0.475854       asked\n",
       "64        5  0.339895       asked\n",
       "65        5  0.754700      asking\n",
       "...     ...       ...         ...\n",
       "962       6  0.126545        week\n",
       "964       3  0.300971        well\n",
       "964       6  0.601942        well\n",
       "965       1  0.528835        went\n",
       "965       5  0.396626        went\n",
       "967       6  0.824838    weymouth\n",
       "972       6  0.792253       white\n",
       "976       1  0.172681     without\n",
       "976       2  0.230241     without\n",
       "976       4  0.575602     without\n",
       "978       1  0.362245         won\n",
       "978       2  0.603742         won\n",
       "978       4  0.060374         won\n",
       "979       2  0.787695      wonder\n",
       "982       2  0.921284        word\n",
       "983       1  0.682343        work\n",
       "983       2  0.227448        work\n",
       "983       3  0.090979        work\n",
       "985       1  0.726842     working\n",
       "985       3  0.066077     working\n",
       "985       4  0.198230     working\n",
       "986       6  0.964201       worse\n",
       "987       1  0.296435       worth\n",
       "987       6  0.592871       worth\n",
       "992       1  0.062195       wrong\n",
       "992       2  0.062195       wrong\n",
       "992       3  0.621948       wrong\n",
       "992       4  0.124390       wrong\n",
       "992       6  0.093292       wrong\n",
       "993       5  0.876293         wud\n",
       "\n",
       "[566 rows x 3 columns], R=30, lambda_step=0.01, plot_opts={'xlab': 'PC1', 'ylab': 'PC2'}, topic_order=[1, 6, 4, 5, 2, 3])"
      ]
     },
     "execution_count": 507,
     "metadata": {},
     "output_type": "execute_result"
    }
   ],
   "source": [
    "pyLDAvis.enable_notebook()\n",
    "pyLDAvis.sklearn.prepare(lda, tf, tf_vectorizer)"
   ]
  },
  {
   "cell_type": "markdown",
   "metadata": {},
   "source": [
    "To build and interpret this model:  \n",
    "1) decide topic numbers  \n",
    "2) list the complete reviews in terms of tokens in order to understand the reasons behind (as the code below)"
   ]
  },
  {
   "cell_type": "code",
   "execution_count": 521,
   "metadata": {},
   "outputs": [
    {
     "name": "stdout",
     "output_type": "stream",
     "text": [
      "--------\n",
      " dhlparceluk   officialukmail   can your customer service get back to me  why are you issuing curry s customers with tracking codes that are not recognised on your website  this is a serious issue  ukmail  currys poor service  no response or acknowledgement or way to contact you \n",
      "--------\n",
      "waiting for washing machine delivery from  curryspcworld rang to track delivery only to be told the order hasn t been validated so wont be until next week  i am fuming wasted all day waiting in for them  cancelled and gone to  ao for a much better service   currys  fail \n",
      "--------\n",
      " teamknowhowuk please tell me why my delivery               didn t take place as advised yesterday and is now planned for sunday on track it  i wasted a days leave yesterday and now have to stay in sunday   shockingservice  currys  teamknowhow  fuming \n",
      "--------\n",
      "very bad service  bought a fridge freezer in    agreed to deliver on     received confirmation fo the deliver between   and   took half day of  waited all afternoon i tracked the item and all looks good by   tracked the delivery and the message was contact required  i phoned them and was waiting for  mins and getting charged  pence a min  \n",
      "\n",
      "--------\n",
      "very bad service  bought a fridge freezer in    agreed to deliver on     received confirmation fo the deliver between   and   took half day of  waited all afternoon i tracked the item and all looks good by   tracked the delivery and the message was contact required  i phoned them and was waiting for  mins and getting charged  pence a min  \n",
      "\n",
      "--------\n",
      "bought a faulty coffee machine  advised to send it back  check the tracking no and to call customer services as soon as it arrived back \n",
      "\n",
      "--------\n",
      "disgraceful service from the start  we were told in the worcester store we would have our fridge freezer delivered the next day before we paid   then once the money was paid they backtracked and said it would come in  days time  the day arrived  yesterday  and they missed the four hour slot we were given so we rang and we were told it was forty minutes away so we let our old one go \n",
      "\n",
      "--------\n",
      "ordered something on black friday to be delivered to store  i ve still not had a confirmation email to say it s there and when i try entering my reference number on the tracker as there is no other option to speak to a customer service advisor it s saying it s not recognised \n",
      "\n",
      "--------\n",
      "worst service i have ever received i cannot track after being given tracking code and customer services are non existent don t want to help \n",
      "\n",
      "\n",
      " total number: 9\n"
     ]
    }
   ],
   "source": [
    "count=0\n",
    "for tweet in cs:\n",
    "    if 'track' in tweet:\n",
    "        count+=1\n",
    "        print('--------')\n",
    "        print(tweet)\n",
    "print('\\n','total number:',count)"
   ]
  },
  {
   "cell_type": "code",
   "execution_count": null,
   "metadata": {},
   "outputs": [],
   "source": []
  }
 ],
 "metadata": {
  "kernelspec": {
   "display_name": "Python 3",
   "language": "python",
   "name": "python3"
  },
  "language_info": {
   "codemirror_mode": {
    "name": "ipython",
    "version": 3
   },
   "file_extension": ".py",
   "mimetype": "text/x-python",
   "name": "python",
   "nbconvert_exporter": "python",
   "pygments_lexer": "ipython3",
   "version": "3.6.7"
  }
 },
 "nbformat": 4,
 "nbformat_minor": 2
}
